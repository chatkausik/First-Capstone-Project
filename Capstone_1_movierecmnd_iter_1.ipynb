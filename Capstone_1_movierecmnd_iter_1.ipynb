{
 "cells": [
  {
   "cell_type": "code",
   "execution_count": 1,
   "metadata": {
    "collapsed": true
   },
   "outputs": [],
   "source": [
    "#Importing all the libraries.\n",
    "\n",
    "import numpy as np\n",
    "import pandas as pd\n",
    "import matplotlib.pyplot as plt\n",
    "import seaborn as sns\n",
    "%matplotlib inline\n",
    "from sklearn.model_selection import train_test_split\n",
    "from sklearn import linear_model\n",
    "from sklearn import metrics\n",
    "import timeit\n"
   ]
  },
  {
   "cell_type": "code",
   "execution_count": 2,
   "metadata": {
    "collapsed": false
   },
   "outputs": [],
   "source": [
    "# Load the CSV file to a Pandas Dataframe\n",
    "\n",
    "df=pd.read_csv(\"movie_metadata.csv\")\n"
   ]
  },
  {
   "cell_type": "code",
   "execution_count": 3,
   "metadata": {
    "collapsed": false,
    "scrolled": true
   },
   "outputs": [
    {
     "data": {
      "text/plain": [
       "5043"
      ]
     },
     "execution_count": 3,
     "metadata": {},
     "output_type": "execute_result"
    }
   ],
   "source": [
    "#Max length of the dataframe\n",
    "\n",
    "len(df)\n"
   ]
  },
  {
   "cell_type": "code",
   "execution_count": 4,
   "metadata": {
    "collapsed": false
   },
   "outputs": [
    {
     "data": {
      "text/plain": [
       "Index(['color', 'director_name', 'num_critic_for_reviews', 'duration',\n",
       "       'director_facebook_likes', 'actor_3_facebook_likes', 'actor_2_name',\n",
       "       'actor_1_facebook_likes', 'gross', 'genres', 'actor_1_name',\n",
       "       'movie_title', 'num_voted_users', 'cast_total_facebook_likes',\n",
       "       'actor_3_name', 'facenumber_in_poster', 'plot_keywords',\n",
       "       'movie_imdb_link', 'num_user_for_reviews', 'language', 'country',\n",
       "       'content_rating', 'budget', 'title_year', 'actor_2_facebook_likes',\n",
       "       'imdb_score', 'aspect_ratio', 'movie_facebook_likes'],\n",
       "      dtype='object')"
      ]
     },
     "execution_count": 4,
     "metadata": {},
     "output_type": "execute_result"
    }
   ],
   "source": [
    "#Display the columns. Total 28 Columns.\n",
    "\n",
    "df.columns\n"
   ]
  },
  {
   "cell_type": "code",
   "execution_count": 5,
   "metadata": {
    "collapsed": false,
    "scrolled": true
   },
   "outputs": [
    {
     "data": {
      "text/plain": [
       "color                         19\n",
       "director_name                104\n",
       "num_critic_for_reviews        50\n",
       "duration                      15\n",
       "director_facebook_likes      104\n",
       "actor_3_facebook_likes        23\n",
       "actor_2_name                  13\n",
       "actor_1_facebook_likes         7\n",
       "gross                        884\n",
       "genres                         0\n",
       "actor_1_name                   7\n",
       "movie_title                    0\n",
       "num_voted_users                0\n",
       "cast_total_facebook_likes      0\n",
       "actor_3_name                  23\n",
       "facenumber_in_poster          13\n",
       "plot_keywords                153\n",
       "movie_imdb_link                0\n",
       "num_user_for_reviews          21\n",
       "language                      12\n",
       "country                        5\n",
       "content_rating               303\n",
       "budget                       492\n",
       "title_year                   108\n",
       "actor_2_facebook_likes        13\n",
       "imdb_score                     0\n",
       "aspect_ratio                 329\n",
       "movie_facebook_likes           0\n",
       "dtype: int64"
      ]
     },
     "execution_count": 5,
     "metadata": {},
     "output_type": "execute_result"
    }
   ],
   "source": [
    "#column counts substracting from total length. If different, means missing data.\n",
    "\n",
    "len(df)- df.count()\n",
    "\n",
    "#So no missing data for genres, movie_title, num_voted_users, cast_total_facebook_likes, movie_imdb_link,\n",
    "#imdb_score, movie_facebook_likes"
   ]
  },
  {
   "cell_type": "code",
   "execution_count": 6,
   "metadata": {
    "collapsed": false,
    "scrolled": true
   },
   "outputs": [
    {
     "data": {
      "text/plain": [
       "count    5043.000000\n",
       "mean        6.442138\n",
       "std         1.125116\n",
       "min         1.600000\n",
       "25%         5.800000\n",
       "50%         6.600000\n",
       "75%         7.200000\n",
       "max         9.500000\n",
       "Name: imdb_score, dtype: float64"
      ]
     },
     "execution_count": 6,
     "metadata": {},
     "output_type": "execute_result"
    }
   ],
   "source": [
    "#Applying Describe method to understand all statistical values for all the numeric fields.\n",
    "\n",
    "df['imdb_score'].describe()\n",
    "\n",
    "#imdb_score has max value of 9.5 and minimum value of 1.6 out of 10 for all the movies in the dataframe with a \n",
    "#mean of 6.44 having standard deviation of 1.125."
   ]
  },
  {
   "cell_type": "code",
   "execution_count": 7,
   "metadata": {
    "collapsed": false
   },
   "outputs": [
    {
     "data": {
      "text/html": [
       "<div>\n",
       "<style>\n",
       "    .dataframe thead tr:only-child th {\n",
       "        text-align: right;\n",
       "    }\n",
       "\n",
       "    .dataframe thead th {\n",
       "        text-align: left;\n",
       "    }\n",
       "\n",
       "    .dataframe tbody tr th {\n",
       "        vertical-align: top;\n",
       "    }\n",
       "</style>\n",
       "<table border=\"1\" class=\"dataframe\">\n",
       "  <thead>\n",
       "    <tr style=\"text-align: right;\">\n",
       "      <th></th>\n",
       "      <th>num_critic_for_reviews</th>\n",
       "      <th>duration</th>\n",
       "      <th>director_facebook_likes</th>\n",
       "      <th>actor_3_facebook_likes</th>\n",
       "      <th>actor_1_facebook_likes</th>\n",
       "      <th>gross</th>\n",
       "      <th>num_voted_users</th>\n",
       "      <th>cast_total_facebook_likes</th>\n",
       "      <th>facenumber_in_poster</th>\n",
       "      <th>num_user_for_reviews</th>\n",
       "      <th>budget</th>\n",
       "      <th>title_year</th>\n",
       "      <th>actor_2_facebook_likes</th>\n",
       "      <th>imdb_score</th>\n",
       "      <th>aspect_ratio</th>\n",
       "      <th>movie_facebook_likes</th>\n",
       "    </tr>\n",
       "  </thead>\n",
       "  <tbody>\n",
       "    <tr>\n",
       "      <th>count</th>\n",
       "      <td>4993.000000</td>\n",
       "      <td>5028.000000</td>\n",
       "      <td>4939.000000</td>\n",
       "      <td>5020.000000</td>\n",
       "      <td>5036.000000</td>\n",
       "      <td>4.159000e+03</td>\n",
       "      <td>5.043000e+03</td>\n",
       "      <td>5043.000000</td>\n",
       "      <td>5030.000000</td>\n",
       "      <td>5022.000000</td>\n",
       "      <td>4.551000e+03</td>\n",
       "      <td>4935.000000</td>\n",
       "      <td>5030.000000</td>\n",
       "      <td>5043.000000</td>\n",
       "      <td>4714.000000</td>\n",
       "      <td>5043.000000</td>\n",
       "    </tr>\n",
       "    <tr>\n",
       "      <th>mean</th>\n",
       "      <td>140.194272</td>\n",
       "      <td>107.201074</td>\n",
       "      <td>686.509212</td>\n",
       "      <td>645.009761</td>\n",
       "      <td>6560.047061</td>\n",
       "      <td>4.846841e+07</td>\n",
       "      <td>8.366816e+04</td>\n",
       "      <td>9699.063851</td>\n",
       "      <td>1.371173</td>\n",
       "      <td>272.770808</td>\n",
       "      <td>3.975262e+07</td>\n",
       "      <td>2002.470517</td>\n",
       "      <td>1651.754473</td>\n",
       "      <td>6.442138</td>\n",
       "      <td>2.220403</td>\n",
       "      <td>7525.964505</td>\n",
       "    </tr>\n",
       "    <tr>\n",
       "      <th>std</th>\n",
       "      <td>121.601675</td>\n",
       "      <td>25.197441</td>\n",
       "      <td>2813.328607</td>\n",
       "      <td>1665.041728</td>\n",
       "      <td>15020.759120</td>\n",
       "      <td>6.845299e+07</td>\n",
       "      <td>1.384853e+05</td>\n",
       "      <td>18163.799124</td>\n",
       "      <td>2.013576</td>\n",
       "      <td>377.982886</td>\n",
       "      <td>2.061149e+08</td>\n",
       "      <td>12.474599</td>\n",
       "      <td>4042.438863</td>\n",
       "      <td>1.125116</td>\n",
       "      <td>1.385113</td>\n",
       "      <td>19320.445110</td>\n",
       "    </tr>\n",
       "    <tr>\n",
       "      <th>min</th>\n",
       "      <td>1.000000</td>\n",
       "      <td>7.000000</td>\n",
       "      <td>0.000000</td>\n",
       "      <td>0.000000</td>\n",
       "      <td>0.000000</td>\n",
       "      <td>1.620000e+02</td>\n",
       "      <td>5.000000e+00</td>\n",
       "      <td>0.000000</td>\n",
       "      <td>0.000000</td>\n",
       "      <td>1.000000</td>\n",
       "      <td>2.180000e+02</td>\n",
       "      <td>1916.000000</td>\n",
       "      <td>0.000000</td>\n",
       "      <td>1.600000</td>\n",
       "      <td>1.180000</td>\n",
       "      <td>0.000000</td>\n",
       "    </tr>\n",
       "    <tr>\n",
       "      <th>25%</th>\n",
       "      <td>50.000000</td>\n",
       "      <td>93.000000</td>\n",
       "      <td>7.000000</td>\n",
       "      <td>133.000000</td>\n",
       "      <td>614.000000</td>\n",
       "      <td>5.340988e+06</td>\n",
       "      <td>8.593500e+03</td>\n",
       "      <td>1411.000000</td>\n",
       "      <td>0.000000</td>\n",
       "      <td>65.000000</td>\n",
       "      <td>6.000000e+06</td>\n",
       "      <td>1999.000000</td>\n",
       "      <td>281.000000</td>\n",
       "      <td>5.800000</td>\n",
       "      <td>1.850000</td>\n",
       "      <td>0.000000</td>\n",
       "    </tr>\n",
       "    <tr>\n",
       "      <th>50%</th>\n",
       "      <td>110.000000</td>\n",
       "      <td>103.000000</td>\n",
       "      <td>49.000000</td>\n",
       "      <td>371.500000</td>\n",
       "      <td>988.000000</td>\n",
       "      <td>2.551750e+07</td>\n",
       "      <td>3.435900e+04</td>\n",
       "      <td>3090.000000</td>\n",
       "      <td>1.000000</td>\n",
       "      <td>156.000000</td>\n",
       "      <td>2.000000e+07</td>\n",
       "      <td>2005.000000</td>\n",
       "      <td>595.000000</td>\n",
       "      <td>6.600000</td>\n",
       "      <td>2.350000</td>\n",
       "      <td>166.000000</td>\n",
       "    </tr>\n",
       "    <tr>\n",
       "      <th>75%</th>\n",
       "      <td>195.000000</td>\n",
       "      <td>118.000000</td>\n",
       "      <td>194.500000</td>\n",
       "      <td>636.000000</td>\n",
       "      <td>11000.000000</td>\n",
       "      <td>6.230944e+07</td>\n",
       "      <td>9.630900e+04</td>\n",
       "      <td>13756.500000</td>\n",
       "      <td>2.000000</td>\n",
       "      <td>326.000000</td>\n",
       "      <td>4.500000e+07</td>\n",
       "      <td>2011.000000</td>\n",
       "      <td>918.000000</td>\n",
       "      <td>7.200000</td>\n",
       "      <td>2.350000</td>\n",
       "      <td>3000.000000</td>\n",
       "    </tr>\n",
       "    <tr>\n",
       "      <th>max</th>\n",
       "      <td>813.000000</td>\n",
       "      <td>511.000000</td>\n",
       "      <td>23000.000000</td>\n",
       "      <td>23000.000000</td>\n",
       "      <td>640000.000000</td>\n",
       "      <td>7.605058e+08</td>\n",
       "      <td>1.689764e+06</td>\n",
       "      <td>656730.000000</td>\n",
       "      <td>43.000000</td>\n",
       "      <td>5060.000000</td>\n",
       "      <td>1.221550e+10</td>\n",
       "      <td>2016.000000</td>\n",
       "      <td>137000.000000</td>\n",
       "      <td>9.500000</td>\n",
       "      <td>16.000000</td>\n",
       "      <td>349000.000000</td>\n",
       "    </tr>\n",
       "  </tbody>\n",
       "</table>\n",
       "</div>"
      ],
      "text/plain": [
       "       num_critic_for_reviews     duration  director_facebook_likes  \\\n",
       "count             4993.000000  5028.000000              4939.000000   \n",
       "mean               140.194272   107.201074               686.509212   \n",
       "std                121.601675    25.197441              2813.328607   \n",
       "min                  1.000000     7.000000                 0.000000   \n",
       "25%                 50.000000    93.000000                 7.000000   \n",
       "50%                110.000000   103.000000                49.000000   \n",
       "75%                195.000000   118.000000               194.500000   \n",
       "max                813.000000   511.000000             23000.000000   \n",
       "\n",
       "       actor_3_facebook_likes  actor_1_facebook_likes         gross  \\\n",
       "count             5020.000000             5036.000000  4.159000e+03   \n",
       "mean               645.009761             6560.047061  4.846841e+07   \n",
       "std               1665.041728            15020.759120  6.845299e+07   \n",
       "min                  0.000000                0.000000  1.620000e+02   \n",
       "25%                133.000000              614.000000  5.340988e+06   \n",
       "50%                371.500000              988.000000  2.551750e+07   \n",
       "75%                636.000000            11000.000000  6.230944e+07   \n",
       "max              23000.000000           640000.000000  7.605058e+08   \n",
       "\n",
       "       num_voted_users  cast_total_facebook_likes  facenumber_in_poster  \\\n",
       "count     5.043000e+03                5043.000000           5030.000000   \n",
       "mean      8.366816e+04                9699.063851              1.371173   \n",
       "std       1.384853e+05               18163.799124              2.013576   \n",
       "min       5.000000e+00                   0.000000              0.000000   \n",
       "25%       8.593500e+03                1411.000000              0.000000   \n",
       "50%       3.435900e+04                3090.000000              1.000000   \n",
       "75%       9.630900e+04               13756.500000              2.000000   \n",
       "max       1.689764e+06              656730.000000             43.000000   \n",
       "\n",
       "       num_user_for_reviews        budget   title_year  \\\n",
       "count           5022.000000  4.551000e+03  4935.000000   \n",
       "mean             272.770808  3.975262e+07  2002.470517   \n",
       "std              377.982886  2.061149e+08    12.474599   \n",
       "min                1.000000  2.180000e+02  1916.000000   \n",
       "25%               65.000000  6.000000e+06  1999.000000   \n",
       "50%              156.000000  2.000000e+07  2005.000000   \n",
       "75%              326.000000  4.500000e+07  2011.000000   \n",
       "max             5060.000000  1.221550e+10  2016.000000   \n",
       "\n",
       "       actor_2_facebook_likes   imdb_score  aspect_ratio  movie_facebook_likes  \n",
       "count             5030.000000  5043.000000   4714.000000           5043.000000  \n",
       "mean              1651.754473     6.442138      2.220403           7525.964505  \n",
       "std               4042.438863     1.125116      1.385113          19320.445110  \n",
       "min                  0.000000     1.600000      1.180000              0.000000  \n",
       "25%                281.000000     5.800000      1.850000              0.000000  \n",
       "50%                595.000000     6.600000      2.350000            166.000000  \n",
       "75%                918.000000     7.200000      2.350000           3000.000000  \n",
       "max             137000.000000     9.500000     16.000000         349000.000000  "
      ]
     },
     "execution_count": 7,
     "metadata": {},
     "output_type": "execute_result"
    }
   ],
   "source": [
    "#Applying Describe method to understand all statistical values for all the numeric fields.\n",
    "\n",
    "df.describe()\n",
    "\n"
   ]
  },
  {
   "cell_type": "code",
   "execution_count": 8,
   "metadata": {
    "collapsed": false
   },
   "outputs": [
    {
     "name": "stdout",
     "output_type": "stream",
     "text": [
      "<class 'pandas.core.frame.DataFrame'>\n",
      "RangeIndex: 5043 entries, 0 to 5042\n",
      "Data columns (total 28 columns):\n",
      "color                        5024 non-null object\n",
      "director_name                4939 non-null object\n",
      "num_critic_for_reviews       4993 non-null float64\n",
      "duration                     5028 non-null float64\n",
      "director_facebook_likes      4939 non-null float64\n",
      "actor_3_facebook_likes       5020 non-null float64\n",
      "actor_2_name                 5030 non-null object\n",
      "actor_1_facebook_likes       5036 non-null float64\n",
      "gross                        4159 non-null float64\n",
      "genres                       5043 non-null object\n",
      "actor_1_name                 5036 non-null object\n",
      "movie_title                  5043 non-null object\n",
      "num_voted_users              5043 non-null int64\n",
      "cast_total_facebook_likes    5043 non-null int64\n",
      "actor_3_name                 5020 non-null object\n",
      "facenumber_in_poster         5030 non-null float64\n",
      "plot_keywords                4890 non-null object\n",
      "movie_imdb_link              5043 non-null object\n",
      "num_user_for_reviews         5022 non-null float64\n",
      "language                     5031 non-null object\n",
      "country                      5038 non-null object\n",
      "content_rating               4740 non-null object\n",
      "budget                       4551 non-null float64\n",
      "title_year                   4935 non-null float64\n",
      "actor_2_facebook_likes       5030 non-null float64\n",
      "imdb_score                   5043 non-null float64\n",
      "aspect_ratio                 4714 non-null float64\n",
      "movie_facebook_likes         5043 non-null int64\n",
      "dtypes: float64(13), int64(3), object(12)\n",
      "memory usage: 1.1+ MB\n"
     ]
    }
   ],
   "source": [
    "df.info()\n"
   ]
  },
  {
   "cell_type": "code",
   "execution_count": 9,
   "metadata": {
    "collapsed": false
   },
   "outputs": [
    {
     "data": {
      "text/plain": [
       "(array([   2.,    3.,    2.,    6.,    3.,    4.,    8.,    9.,    9.,\n",
       "           8.,   24.,   12.,   29.,   23.,   14.,   44.,   20.,   56.,\n",
       "          71.,   31.,  104.,   42.,  139.,   92.,  202.,  229.,  124.,\n",
       "         275.,  179.,  351.,  185.,  387.,  404.,  174.,  365.,  195.,\n",
       "         331.,  264.,  114.,  181.,   75.,  111.,   40.,   53.,   28.,\n",
       "           7.,    8.,    3.,    2.,    1.]),\n",
       " array([ 1.6  ,  1.758,  1.916,  2.074,  2.232,  2.39 ,  2.548,  2.706,\n",
       "         2.864,  3.022,  3.18 ,  3.338,  3.496,  3.654,  3.812,  3.97 ,\n",
       "         4.128,  4.286,  4.444,  4.602,  4.76 ,  4.918,  5.076,  5.234,\n",
       "         5.392,  5.55 ,  5.708,  5.866,  6.024,  6.182,  6.34 ,  6.498,\n",
       "         6.656,  6.814,  6.972,  7.13 ,  7.288,  7.446,  7.604,  7.762,\n",
       "         7.92 ,  8.078,  8.236,  8.394,  8.552,  8.71 ,  8.868,  9.026,\n",
       "         9.184,  9.342,  9.5  ]),\n",
       " <a list of 50 Patch objects>)"
      ]
     },
     "execution_count": 9,
     "metadata": {},
     "output_type": "execute_result"
    },
    {
     "data": {
      "image/png": "[encoded data removed]",
      "text/plain": [
       "<matplotlib.figure.Figure at 0x2c8bdbcf438>"
      ]
     },
     "metadata": {},
     "output_type": "display_data"
    }
   ],
   "source": [
    "#Histogram of IMDB Movie Score\n",
    "\n",
    "plt.hist(df.imdb_score.dropna(),bins=50)\n",
    "\n",
    "#df['imdb_score'].plot(kind='hist', title='HISTOGRAM OF IMDB MOVIE SCORE(1-10)',bins=150)\n"
   ]
  },
  {
   "cell_type": "code",
   "execution_count": 10,
   "metadata": {
    "collapsed": false
   },
   "outputs": [
    {
     "data": {
      "text/plain": [
       "<matplotlib.axes._subplots.AxesSubplot at 0x2c8bdf78518>"
      ]
     },
     "execution_count": 10,
     "metadata": {},
     "output_type": "execute_result"
    },
    {
     "data": {
      "image/png": "[encoded data removed]",
      "text/plain": [
       "<matplotlib.figure.Figure at 0x2c8bdffc3c8>"
      ]
     },
     "metadata": {},
     "output_type": "display_data"
    }
   ],
   "source": [
    "#boxplot of IMDB_SCORE\n",
    "sns.boxplot(df.imdb_score.dropna())"
   ]
  },
  {
   "cell_type": "code",
   "execution_count": 11,
   "metadata": {
    "collapsed": false
   },
   "outputs": [
    {
     "data": {
      "text/plain": [
       "<matplotlib.axes._subplots.AxesSubplot at 0x2c8be0cbfd0>"
      ]
     },
     "execution_count": 11,
     "metadata": {},
     "output_type": "execute_result"
    },
    {
     "data": {
      "image/png": "[encoded data removed]",
      "text/plain": [
       "<matplotlib.figure.Figure at 0x2c8be1bd898>"
      ]
     },
     "metadata": {},
     "output_type": "display_data"
    }
   ],
   "source": [
    "#Kernel Density Estimate Plot for IMDB_SCORE\n",
    "sns.kdeplot(df.imdb_score,shade=True,cumulative=True)"
   ]
  },
  {
   "cell_type": "code",
   "execution_count": 12,
   "metadata": {
    "collapsed": false
   },
   "outputs": [
    {
     "data": {
      "text/plain": [
       "<matplotlib.axes._subplots.AxesSubplot at 0x2c8be311a20>"
      ]
     },
     "execution_count": 12,
     "metadata": {},
     "output_type": "execute_result"
    },
    {
     "data": {
      "image/png": "[encoded data removed]",
      "text/plain": [
       "<matplotlib.figure.Figure at 0x2c8be2f5470>"
      ]
     },
     "metadata": {},
     "output_type": "display_data"
    }
   ],
   "source": [
    "sns.distplot(df.imdb_score)"
   ]
  },
  {
   "cell_type": "code",
   "execution_count": 13,
   "metadata": {
    "collapsed": false
   },
   "outputs": [
    {
     "data": {
      "text/plain": [
       "<matplotlib.axes._subplots.AxesSubplot at 0x2c8be2f5748>"
      ]
     },
     "execution_count": 13,
     "metadata": {},
     "output_type": "execute_result"
    },
    {
     "data": {
      "image/png": "[encoded data removed]",
      "text/plain": [
       "<matplotlib.figure.Figure at 0x2c8b8d15438>"
      ]
     },
     "metadata": {},
     "output_type": "display_data"
    }
   ],
   "source": [
    "#violinplot\n",
    "\n",
    "sns.violinplot(df.imdb_score)"
   ]
  },
  {
   "cell_type": "code",
   "execution_count": 14,
   "metadata": {
    "collapsed": false
   },
   "outputs": [
    {
     "data": {
      "text/plain": [
       "<matplotlib.axes._subplots.AxesSubplot at 0x2c8be5a1588>"
      ]
     },
     "execution_count": 14,
     "metadata": {},
     "output_type": "execute_result"
    },
    {
     "data": {
      "image/png": "[encoded data removed]",
      "text/plain": [
       "<matplotlib.figure.Figure at 0x2c8bdf92da0>"
      ]
     },
     "metadata": {},
     "output_type": "display_data"
    }
   ],
   "source": [
    "#KDE of duration\n",
    "\n",
    "sns.kdeplot(df.duration.dropna(),cumulative=True,shade=True)\n"
   ]
  },
  {
   "cell_type": "code",
   "execution_count": 15,
   "metadata": {
    "collapsed": false
   },
   "outputs": [
    {
     "data": {
      "text/plain": [
       "<matplotlib.axes._subplots.AxesSubplot at 0x2c8be898e80>"
      ]
     },
     "execution_count": 15,
     "metadata": {},
     "output_type": "execute_result"
    },
    {
     "data": {
      "image/png": "[encoded data removed]",
      "text/plain": [
       "<matplotlib.figure.Figure at 0x2c8be8afc18>"
      ]
     },
     "metadata": {},
     "output_type": "display_data"
    }
   ],
   "source": [
    "#KDE OF director_facebook_likes\n",
    "\n",
    "sns.kdeplot(df.director_facebook_likes.dropna(),cumulative=True,shade=True)"
   ]
  },
  {
   "cell_type": "code",
   "execution_count": 16,
   "metadata": {
    "collapsed": false
   },
   "outputs": [
    {
     "data": {
      "text/plain": [
       "<matplotlib.axes._subplots.AxesSubplot at 0x2c8bea85f28>"
      ]
     },
     "execution_count": 16,
     "metadata": {},
     "output_type": "execute_result"
    },
    {
     "data": {
      "image/png": "[encoded data removed]",
      "text/plain": [
       "<matplotlib.figure.Figure at 0x2c8bea4e0f0>"
      ]
     },
     "metadata": {},
     "output_type": "display_data"
    }
   ],
   "source": [
    "#KDE OF actor_1_facebook_likes\n",
    "\n",
    "sns.kdeplot(df.actor_1_facebook_likes.dropna(),cumulative=True,shade=True)"
   ]
  },
  {
   "cell_type": "code",
   "execution_count": 17,
   "metadata": {
    "collapsed": false
   },
   "outputs": [
    {
     "data": {
      "text/plain": [
       "<matplotlib.axes._subplots.AxesSubplot at 0x2c8bebd3048>"
      ]
     },
     "execution_count": 17,
     "metadata": {},
     "output_type": "execute_result"
    },
    {
     "data": {
      "image/png": "[encoded data removed]",
      "text/plain": [
       "<matplotlib.figure.Figure at 0x2c8bebc82e8>"
      ]
     },
     "metadata": {},
     "output_type": "display_data"
    }
   ],
   "source": [
    "#KDE OF actor_2_facebook_likes\n",
    "\n",
    "sns.kdeplot(df.actor_2_facebook_likes.dropna(),cumulative=True,shade=True)"
   ]
  },
  {
   "cell_type": "code",
   "execution_count": 18,
   "metadata": {
    "collapsed": false
   },
   "outputs": [
    {
     "data": {
      "text/plain": [
       "<matplotlib.axes._subplots.AxesSubplot at 0x2c8bed63160>"
      ]
     },
     "execution_count": 18,
     "metadata": {},
     "output_type": "execute_result"
    },
    {
     "data": {
      "image/png": "[encoded data removed]",
      "text/plain": [
       "<matplotlib.figure.Figure at 0x2c8bed7bb38>"
      ]
     },
     "metadata": {},
     "output_type": "display_data"
    }
   ],
   "source": [
    "#KDE OF actor_3_facebook_likes\n",
    "\n",
    "sns.kdeplot(df.actor_3_facebook_likes.dropna(),cumulative=True,shade=True)"
   ]
  },
  {
   "cell_type": "code",
   "execution_count": 19,
   "metadata": {
    "collapsed": false
   },
   "outputs": [
    {
     "name": "stderr",
     "output_type": "stream",
     "text": [
      "C:\\Users\\Amrita\\Anaconda3\\lib\\site-packages\\scipy\\integrate\\quadpack.py:364: IntegrationWarning: The integral is probably divergent, or slowly convergent.\n",
      "  warnings.warn(msg, IntegrationWarning)\n"
     ]
    },
    {
     "data": {
      "text/plain": [
       "<matplotlib.axes._subplots.AxesSubplot at 0x2c8beecd048>"
      ]
     },
     "execution_count": 19,
     "metadata": {},
     "output_type": "execute_result"
    },
    {
     "data": {
      "image/png": "[encoded data removed]",
      "text/plain": [
       "<matplotlib.figure.Figure at 0x2c8bedf8908>"
      ]
     },
     "metadata": {},
     "output_type": "display_data"
    }
   ],
   "source": [
    "#KDE OF gross VS Budget\n",
    "\n",
    "sns.kdeplot(df.gross.dropna(),cumulative=True,shade=True)\n",
    "#sns.kdeplot(df.budget.dropna(),cumulative=True,shade=True)"
   ]
  },
  {
   "cell_type": "code",
   "execution_count": 20,
   "metadata": {
    "collapsed": false
   },
   "outputs": [
    {
     "data": {
      "text/html": [
       "<div>\n",
       "<style>\n",
       "    .dataframe thead tr:only-child th {\n",
       "        text-align: right;\n",
       "    }\n",
       "\n",
       "    .dataframe thead th {\n",
       "        text-align: left;\n",
       "    }\n",
       "\n",
       "    .dataframe tbody tr th {\n",
       "        vertical-align: top;\n",
       "    }\n",
       "</style>\n",
       "<table border=\"1\" class=\"dataframe\">\n",
       "  <thead>\n",
       "    <tr style=\"text-align: right;\">\n",
       "      <th></th>\n",
       "      <th>color</th>\n",
       "      <th>director_name</th>\n",
       "      <th>num_critic_for_reviews</th>\n",
       "      <th>duration</th>\n",
       "      <th>director_facebook_likes</th>\n",
       "      <th>actor_3_facebook_likes</th>\n",
       "      <th>actor_2_name</th>\n",
       "      <th>actor_1_facebook_likes</th>\n",
       "      <th>gross</th>\n",
       "      <th>genres</th>\n",
       "      <th>...</th>\n",
       "      <th>num_user_for_reviews</th>\n",
       "      <th>language</th>\n",
       "      <th>country</th>\n",
       "      <th>content_rating</th>\n",
       "      <th>budget</th>\n",
       "      <th>title_year</th>\n",
       "      <th>actor_2_facebook_likes</th>\n",
       "      <th>imdb_score</th>\n",
       "      <th>aspect_ratio</th>\n",
       "      <th>movie_facebook_likes</th>\n",
       "    </tr>\n",
       "  </thead>\n",
       "  <tbody>\n",
       "  </tbody>\n",
       "</table>\n",
       "<p>0 rows × 28 columns</p>\n",
       "</div>"
      ],
      "text/plain": [
       "Empty DataFrame\n",
       "Columns: [color, director_name, num_critic_for_reviews, duration, director_facebook_likes, actor_3_facebook_likes, actor_2_name, actor_1_facebook_likes, gross, genres, actor_1_name, movie_title, num_voted_users, cast_total_facebook_likes, actor_3_name, facenumber_in_poster, plot_keywords, movie_imdb_link, num_user_for_reviews, language, country, content_rating, budget, title_year, actor_2_facebook_likes, imdb_score, aspect_ratio, movie_facebook_likes]\n",
       "Index: []\n",
       "\n",
       "[0 rows x 28 columns]"
      ]
     },
     "execution_count": 20,
     "metadata": {},
     "output_type": "execute_result"
    }
   ],
   "source": [
    "# IMDB SCORE will be my pridected output variable. Float Variable.\n",
    "\n",
    "# Check to see if imdb_score field is having any missing values or not.\n",
    "\n",
    "df[df['imdb_score'] < 1]"
   ]
  },
  {
   "cell_type": "code",
   "execution_count": 21,
   "metadata": {
    "collapsed": false
   },
   "outputs": [
    {
     "data": {
      "text/html": [
       "<div>\n",
       "<style>\n",
       "    .dataframe thead tr:only-child th {\n",
       "        text-align: right;\n",
       "    }\n",
       "\n",
       "    .dataframe thead th {\n",
       "        text-align: left;\n",
       "    }\n",
       "\n",
       "    .dataframe tbody tr th {\n",
       "        vertical-align: top;\n",
       "    }\n",
       "</style>\n",
       "<table border=\"1\" class=\"dataframe\">\n",
       "  <thead>\n",
       "    <tr style=\"text-align: right;\">\n",
       "      <th></th>\n",
       "      <th>color</th>\n",
       "      <th>director_name</th>\n",
       "      <th>num_critic_for_reviews</th>\n",
       "      <th>duration</th>\n",
       "      <th>director_facebook_likes</th>\n",
       "      <th>actor_3_facebook_likes</th>\n",
       "      <th>actor_2_name</th>\n",
       "      <th>actor_1_facebook_likes</th>\n",
       "      <th>gross</th>\n",
       "      <th>genres</th>\n",
       "      <th>...</th>\n",
       "      <th>num_user_for_reviews</th>\n",
       "      <th>language</th>\n",
       "      <th>country</th>\n",
       "      <th>content_rating</th>\n",
       "      <th>budget</th>\n",
       "      <th>title_year</th>\n",
       "      <th>actor_2_facebook_likes</th>\n",
       "      <th>imdb_score</th>\n",
       "      <th>aspect_ratio</th>\n",
       "      <th>movie_facebook_likes</th>\n",
       "    </tr>\n",
       "  </thead>\n",
       "  <tbody>\n",
       "  </tbody>\n",
       "</table>\n",
       "<p>0 rows × 28 columns</p>\n",
       "</div>"
      ],
      "text/plain": [
       "Empty DataFrame\n",
       "Columns: [color, director_name, num_critic_for_reviews, duration, director_facebook_likes, actor_3_facebook_likes, actor_2_name, actor_1_facebook_likes, gross, genres, actor_1_name, movie_title, num_voted_users, cast_total_facebook_likes, actor_3_name, facenumber_in_poster, plot_keywords, movie_imdb_link, num_user_for_reviews, language, country, content_rating, budget, title_year, actor_2_facebook_likes, imdb_score, aspect_ratio, movie_facebook_likes]\n",
       "Index: []\n",
       "\n",
       "[0 rows x 28 columns]"
      ]
     },
     "execution_count": 21,
     "metadata": {},
     "output_type": "execute_result"
    }
   ],
   "source": [
    "df[df['imdb_score'] < 0]"
   ]
  },
  {
   "cell_type": "code",
   "execution_count": 22,
   "metadata": {
    "collapsed": false
   },
   "outputs": [
    {
     "data": {
      "text/plain": [
       "5043"
      ]
     },
     "execution_count": 22,
     "metadata": {},
     "output_type": "execute_result"
    }
   ],
   "source": [
    "len(df[df['imdb_score'].notnull()])"
   ]
  },
  {
   "cell_type": "code",
   "execution_count": 23,
   "metadata": {
    "collapsed": false
   },
   "outputs": [
    {
     "data": {
      "text/plain": [
       "0"
      ]
     },
     "execution_count": 23,
     "metadata": {},
     "output_type": "execute_result"
    }
   ],
   "source": [
    "len(df[df['imdb_score'].isnull()])\n"
   ]
  },
  {
   "cell_type": "code",
   "execution_count": 24,
   "metadata": {
    "collapsed": false
   },
   "outputs": [
    {
     "data": {
      "text/plain": [
       "color                         19\n",
       "director_name                104\n",
       "num_critic_for_reviews        50\n",
       "duration                      15\n",
       "director_facebook_likes      104\n",
       "actor_3_facebook_likes        23\n",
       "actor_2_name                  13\n",
       "actor_1_facebook_likes         7\n",
       "gross                        884\n",
       "genres                         0\n",
       "actor_1_name                   7\n",
       "movie_title                    0\n",
       "num_voted_users                0\n",
       "cast_total_facebook_likes      0\n",
       "actor_3_name                  23\n",
       "facenumber_in_poster          13\n",
       "plot_keywords                153\n",
       "movie_imdb_link                0\n",
       "num_user_for_reviews          21\n",
       "language                      12\n",
       "country                        5\n",
       "content_rating               303\n",
       "budget                       492\n",
       "title_year                   108\n",
       "actor_2_facebook_likes        13\n",
       "imdb_score                     0\n",
       "aspect_ratio                 329\n",
       "movie_facebook_likes           0\n",
       "dtype: int64"
      ]
     },
     "execution_count": 24,
     "metadata": {},
     "output_type": "execute_result"
    }
   ],
   "source": [
    "len(df)- df.count()"
   ]
  },
  {
   "cell_type": "code",
   "execution_count": 25,
   "metadata": {
    "collapsed": false
   },
   "outputs": [],
   "source": [
    "# Define Function which will determine missing value percentages for any Data Fields\n",
    "\n",
    "def missval_chk(data):\n",
    "    missval_cnt = len(df)- df.count()\n",
    "    isnull_count = len(df[df[data].isnull()])\n",
    "    if len(df)> 0:\n",
    "        percent = ((missval_cnt[data]/len(df)) * 100)\n",
    "    else:\n",
    "        percent = 0.0\n",
    "    return isnull_count, percent\n",
    "\n",
    "def function(*args):\n",
    "    for arg in args:\n",
    "        print(\"Missing value count,percent for \" + arg + \" col: \" + str(missval_chk(arg)))\n",
    "       "
   ]
  },
  {
   "cell_type": "code",
   "execution_count": 26,
   "metadata": {
    "collapsed": false
   },
   "outputs": [
    {
     "name": "stdout",
     "output_type": "stream",
     "text": [
      "Missing value count,percent for duration col: (15, 0.29744199881023198)\n",
      "Missing value count,percent for actor_1_facebook_likes col: (7, 0.13880626611144162)\n",
      "Missing value count,percent for actor_2_facebook_likes col: (13, 0.25778306563553438)\n",
      "Missing value count,percent for actor_3_facebook_likes col: (23, 0.45607773150902242)\n",
      "Missing value count,percent for director_facebook_likes col: (104, 2.062264525084275)\n",
      "Missing value count,percent for imdb_score col: (0, 0.0)\n"
     ]
    }
   ],
   "source": [
    "function('duration','actor_1_facebook_likes','actor_2_facebook_likes','actor_3_facebook_likes',\n",
    "             'director_facebook_likes','imdb_score')"
   ]
  },
  {
   "cell_type": "code",
   "execution_count": 27,
   "metadata": {
    "collapsed": false
   },
   "outputs": [
    {
     "data": {
      "image/png": "[encoded data removed]",
      "text/plain": [
       "<matplotlib.figure.Figure at 0x2c8befe80b8>"
      ]
     },
     "metadata": {},
     "output_type": "display_data"
    }
   ],
   "source": [
    "\n",
    "fig, axes = plt.subplots(1, 7, figsize=(12, 4))\n",
    "\n",
    "axes[0].plot(df['imdb_score'], df['movie_facebook_likes'])\n",
    "axes[0].set_title(\"movie_facebook_likes\")\n",
    "\n",
    "axes[1].plot(df['imdb_score'], df['director_facebook_likes'])\n",
    "axes[1].axis('tight')\n",
    "axes[1].set_title(\"director_facebook_likes\")\n",
    "\n",
    "axes[2].plot(df['imdb_score'], df['gross'])\n",
    "axes[2].set_title(\"gross\")\n",
    "\n",
    "axes[3].plot(df['imdb_score'], df['actor_1_facebook_likes'])\n",
    "axes[3].set_title(\"actor_1_facebook_likes\")\n",
    "\n",
    "axes[4].plot(df['imdb_score'], df['actor_2_facebook_likes'])\n",
    "axes[4].axis('tight')\n",
    "axes[4].set_title(\"actor_2_facebook_likes\")\n",
    "\n",
    "axes[5].plot(df['imdb_score'], df['actor_3_facebook_likes'])\n",
    "axes[5].set_title(\"actor_3_facebook_likes\")\n",
    "\n",
    "axes[6].plot(df['imdb_score'], df['budget'])\n",
    "axes[6].set_title(\"budget\")\n",
    "\n",
    "plt.tight_layout()"
   ]
  },
  {
   "cell_type": "code",
   "execution_count": 28,
   "metadata": {
    "collapsed": false
   },
   "outputs": [
    {
     "data": {
      "text/plain": [
       "<matplotlib.axes._subplots.AxesSubplot at 0x2c8bf050470>"
      ]
     },
     "execution_count": 28,
     "metadata": {},
     "output_type": "execute_result"
    },
    {
     "data": {
      "image/png": "[encoded data removed]",
      "text/plain": [
       "<matplotlib.figure.Figure at 0x2c8bf017978>"
      ]
     },
     "metadata": {},
     "output_type": "display_data"
    }
   ],
   "source": [
    "#Histogram of facenumber_in_poster\n",
    "\n",
    "df['facenumber_in_poster'].plot(kind='hist', title='HISTOGRAM OF Facenumbers in Posters')\n",
    "\n",
    "#nearly 95% of all the 4096 posters have less than 5 faces."
   ]
  },
  {
   "cell_type": "code",
   "execution_count": 29,
   "metadata": {
    "collapsed": false
   },
   "outputs": [
    {
     "data": {
      "text/plain": [
       "[<matplotlib.lines.Line2D at 0x2c8c042a518>]"
      ]
     },
     "execution_count": 29,
     "metadata": {},
     "output_type": "execute_result"
    },
    {
     "data": {
      "image/png": "[encoded data removed]",
      "text/plain": [
       "<matplotlib.figure.Figure at 0x2c8c04436a0>"
      ]
     },
     "metadata": {},
     "output_type": "display_data"
    }
   ],
   "source": [
    "plt.plot(df['duration'], df['imdb_score'])"
   ]
  },
  {
   "cell_type": "code",
   "execution_count": 30,
   "metadata": {
    "collapsed": false
   },
   "outputs": [
    {
     "data": {
      "text/plain": [
       "[<matplotlib.lines.Line2D at 0x2c8c04e5160>]"
      ]
     },
     "execution_count": 30,
     "metadata": {},
     "output_type": "execute_result"
    },
    {
     "data": {
      "image/png": "[encoded data removed]",
      "text/plain": [
       "<matplotlib.figure.Figure at 0x2c8c03f3668>"
      ]
     },
     "metadata": {},
     "output_type": "display_data"
    }
   ],
   "source": [
    "plt.plot(df['budget'], df['imdb_score'] )"
   ]
  },
  {
   "cell_type": "markdown",
   "metadata": {
    "collapsed": false
   },
   "source": [
    "# check % of total # of rows we'll have to drop across all 4 cols"
   ]
  },
  {
   "cell_type": "code",
   "execution_count": 31,
   "metadata": {
    "collapsed": true
   },
   "outputs": [],
   "source": [
    "# My output column is imdb_score.\n",
    "# No missing values for imdb_score, so no rows dropping for this. Total rows are 5043."
   ]
  },
  {
   "cell_type": "code",
   "execution_count": 32,
   "metadata": {
    "collapsed": true
   },
   "outputs": [],
   "source": [
    "#My three choosen input columns are\n",
    "#director_facebook_likes(104 rows)\n",
    "#actor_1/2/3_facebook_likes(Total 43 rows)\n",
    "#duration(15 rows)"
   ]
  },
  {
   "cell_type": "code",
   "execution_count": 33,
   "metadata": {
    "collapsed": false
   },
   "outputs": [],
   "source": [
    "#Dataframe copied to a new one for dropping/manipulation purpose.\n",
    "df_copy= df.copy()"
   ]
  },
  {
   "cell_type": "code",
   "execution_count": 34,
   "metadata": {
    "collapsed": false
   },
   "outputs": [],
   "source": [
    "# Writing a function which will determine % of rows dropped for these input and output variables selected.\n",
    "\n",
    "def droprows_det(arg1,arg2,arg3,arg4,arg5,arg6):\n",
    "    \n",
    "        counter=len(df_copy) \n",
    "        print(\"Total Number of rows for the dataframe: \" + str(counter))\n",
    "        #print(\"Missing value count,percent for duration col: \" + str(missval_chk('duration'))\n",
    "    \n",
    "        df_copy1= df_copy[df_copy[arg1].notnull()]  \n",
    "        percent1= ((counter - len(df_copy1))/ counter)*100\n",
    "        counter1=len(df_copy1) \n",
    "        print(\"% of rows(\" + str(counter-counter1)+ \") dropped for \" + arg1 + \" column \" + \" is : \" + str(percent1))\n",
    "        print(\"New dataframe size is: \"  + str(counter1))\n",
    "        \n",
    "        df_copy2= df_copy1[df_copy1[arg2].notnull()]\n",
    "        percent2= ((counter1 - len(df_copy2))/ counter1)*100\n",
    "        counter2=len(df_copy2)\n",
    "        print(\"% of rows(\" + str(counter1-counter2)+ \") dropped for \" + arg2 + \" column \" + \" is : \" + str(percent2))\n",
    "        print(\"New dataframe size is: \"  + str(counter2))\n",
    "        \n",
    "                \n",
    "        df_copy3= df_copy2[df_copy2[arg3].notnull()] \n",
    "        percent3= ((counter2 - len(df_copy3))/ counter2)*100\n",
    "        counter3=len(df_copy3)\n",
    "        print(\"% of rows(\" + str(counter2-counter3)+ \") dropped for \" + arg3 + \" column \" + \" is : \" + str(percent3))\n",
    "        print(\"New dataframe size is: \"  + str(counter3))\n",
    "                \n",
    "        df_copy4= df_copy3[df_copy3[arg4].notnull()] \n",
    "        percent4= ((counter3 - len(df_copy4))/ counter3)*100\n",
    "        counter4=len(df_copy4)\n",
    "        print(\"% of rows(\" + str(counter3-counter4)+ \") dropped for \" + arg4 + \" column \" + \" is : \" + str(percent4))\n",
    "        print(\"New dataframe size is: \"  + str(counter4))\n",
    "                \n",
    "        df_copy5= df_copy4[df_copy4[arg5].notnull()] \n",
    "        percent5= ((counter4 - len(df_copy5))/ counter4)*100\n",
    "        counter5=len(df_copy5)\n",
    "        print(\"% of rows(\" + str(counter4-counter5)+ \") dropped for \" + arg5 + \" column \" + \" is : \" + str(percent5))\n",
    "        print(\"New dataframe size is: \"  + str(counter5))\n",
    "        \n",
    "        df_copy6= df_copy5[df_copy5[arg6].notnull()] \n",
    "        percent6= ((counter5 - len(df_copy5))/ counter5)*100\n",
    "        counter6=len(df_copy6)\n",
    "        print(\"% of rows(\" + str(counter5-counter6)+ \") dropped for \" + arg6 + \" column \" + \" is : \" + str(percent6))\n",
    "        print(\"New dataframe size is: \"  + str(counter6))\n",
    "        "
   ]
  },
  {
   "cell_type": "code",
   "execution_count": 35,
   "metadata": {
    "collapsed": false
   },
   "outputs": [
    {
     "name": "stdout",
     "output_type": "stream",
     "text": [
      "Total Number of rows for the dataframe: 5043\n",
      "% of rows(15) dropped for duration column  is : 0.297441998810232\n",
      "New dataframe size is: 5028\n",
      "% of rows(7) dropped for actor_1_facebook_likes column  is : 0.13922036595067622\n",
      "New dataframe size is: 5021\n",
      "% of rows(6) dropped for actor_2_facebook_likes column  is : 0.11949810794662419\n",
      "New dataframe size is: 5015\n",
      "% of rows(8) dropped for actor_3_facebook_likes column  is : 0.15952143569292124\n",
      "New dataframe size is: 5007\n",
      "% of rows(99) dropped for director_facebook_likes column  is : 1.9772318753744758\n",
      "New dataframe size is: 4908\n",
      "% of rows(0) dropped for imdb_score column  is : 0.0\n",
      "New dataframe size is: 4908\n"
     ]
    }
   ],
   "source": [
    "droprows_det('duration','actor_1_facebook_likes','actor_2_facebook_likes','actor_3_facebook_likes',\n",
    "             'director_facebook_likes','imdb_score')"
   ]
  },
  {
   "cell_type": "code",
   "execution_count": 36,
   "metadata": {
    "collapsed": false
   },
   "outputs": [
    {
     "name": "stdout",
     "output_type": "stream",
     "text": [
      "5043\n",
      "5028\n",
      "5021\n",
      "5015\n",
      "5007\n",
      "4908\n",
      "4908\n"
     ]
    }
   ],
   "source": [
    "print(len(df_copy))\n",
    "df_copy= df_copy[df_copy['duration'].notnull()] \n",
    "print(len(df_copy))\n",
    "df_copy=df_copy[df_copy['actor_1_facebook_likes'].notnull()] \n",
    "print(len(df_copy))\n",
    "df_copy=df_copy[df_copy['actor_2_facebook_likes'].notnull()] \n",
    "print(len(df_copy))\n",
    "df_copy=df_copy[df_copy['actor_3_facebook_likes'].notnull()] \n",
    "print(len(df_copy))\n",
    "df_copy=df_copy[df_copy['director_facebook_likes'].notnull()] \n",
    "print(len(df_copy))\n",
    "df_copy=df_copy[df_copy['imdb_score'].notnull()] \n",
    "print(len(df_copy))"
   ]
  },
  {
   "cell_type": "code",
   "execution_count": 37,
   "metadata": {
    "collapsed": false
   },
   "outputs": [
    {
     "data": {
      "text/html": [
       "<div>\n",
       "<style>\n",
       "    .dataframe thead tr:only-child th {\n",
       "        text-align: right;\n",
       "    }\n",
       "\n",
       "    .dataframe thead th {\n",
       "        text-align: left;\n",
       "    }\n",
       "\n",
       "    .dataframe tbody tr th {\n",
       "        vertical-align: top;\n",
       "    }\n",
       "</style>\n",
       "<table border=\"1\" class=\"dataframe\">\n",
       "  <thead>\n",
       "    <tr style=\"text-align: right;\">\n",
       "      <th></th>\n",
       "      <th>color</th>\n",
       "      <th>director_name</th>\n",
       "      <th>num_critic_for_reviews</th>\n",
       "      <th>duration</th>\n",
       "      <th>director_facebook_likes</th>\n",
       "      <th>actor_3_facebook_likes</th>\n",
       "      <th>actor_2_name</th>\n",
       "      <th>actor_1_facebook_likes</th>\n",
       "      <th>gross</th>\n",
       "      <th>genres</th>\n",
       "      <th>...</th>\n",
       "      <th>num_user_for_reviews</th>\n",
       "      <th>language</th>\n",
       "      <th>country</th>\n",
       "      <th>content_rating</th>\n",
       "      <th>budget</th>\n",
       "      <th>title_year</th>\n",
       "      <th>actor_2_facebook_likes</th>\n",
       "      <th>imdb_score</th>\n",
       "      <th>aspect_ratio</th>\n",
       "      <th>movie_facebook_likes</th>\n",
       "    </tr>\n",
       "  </thead>\n",
       "  <tbody>\n",
       "    <tr>\n",
       "      <th>0</th>\n",
       "      <td>Color</td>\n",
       "      <td>James Cameron</td>\n",
       "      <td>723.0</td>\n",
       "      <td>178.0</td>\n",
       "      <td>0.0</td>\n",
       "      <td>855.0</td>\n",
       "      <td>Joel David Moore</td>\n",
       "      <td>1000.0</td>\n",
       "      <td>760505847.0</td>\n",
       "      <td>Action|Adventure|Fantasy|Sci-Fi</td>\n",
       "      <td>...</td>\n",
       "      <td>3054.0</td>\n",
       "      <td>English</td>\n",
       "      <td>USA</td>\n",
       "      <td>PG-13</td>\n",
       "      <td>237000000.0</td>\n",
       "      <td>2009.0</td>\n",
       "      <td>936.0</td>\n",
       "      <td>7.9</td>\n",
       "      <td>1.78</td>\n",
       "      <td>33000</td>\n",
       "    </tr>\n",
       "    <tr>\n",
       "      <th>1</th>\n",
       "      <td>Color</td>\n",
       "      <td>Gore Verbinski</td>\n",
       "      <td>302.0</td>\n",
       "      <td>169.0</td>\n",
       "      <td>563.0</td>\n",
       "      <td>1000.0</td>\n",
       "      <td>Orlando Bloom</td>\n",
       "      <td>40000.0</td>\n",
       "      <td>309404152.0</td>\n",
       "      <td>Action|Adventure|Fantasy</td>\n",
       "      <td>...</td>\n",
       "      <td>1238.0</td>\n",
       "      <td>English</td>\n",
       "      <td>USA</td>\n",
       "      <td>PG-13</td>\n",
       "      <td>300000000.0</td>\n",
       "      <td>2007.0</td>\n",
       "      <td>5000.0</td>\n",
       "      <td>7.1</td>\n",
       "      <td>2.35</td>\n",
       "      <td>0</td>\n",
       "    </tr>\n",
       "    <tr>\n",
       "      <th>2</th>\n",
       "      <td>Color</td>\n",
       "      <td>Sam Mendes</td>\n",
       "      <td>602.0</td>\n",
       "      <td>148.0</td>\n",
       "      <td>0.0</td>\n",
       "      <td>161.0</td>\n",
       "      <td>Rory Kinnear</td>\n",
       "      <td>11000.0</td>\n",
       "      <td>200074175.0</td>\n",
       "      <td>Action|Adventure|Thriller</td>\n",
       "      <td>...</td>\n",
       "      <td>994.0</td>\n",
       "      <td>English</td>\n",
       "      <td>UK</td>\n",
       "      <td>PG-13</td>\n",
       "      <td>245000000.0</td>\n",
       "      <td>2015.0</td>\n",
       "      <td>393.0</td>\n",
       "      <td>6.8</td>\n",
       "      <td>2.35</td>\n",
       "      <td>85000</td>\n",
       "    </tr>\n",
       "    <tr>\n",
       "      <th>3</th>\n",
       "      <td>Color</td>\n",
       "      <td>Christopher Nolan</td>\n",
       "      <td>813.0</td>\n",
       "      <td>164.0</td>\n",
       "      <td>22000.0</td>\n",
       "      <td>23000.0</td>\n",
       "      <td>Christian Bale</td>\n",
       "      <td>27000.0</td>\n",
       "      <td>448130642.0</td>\n",
       "      <td>Action|Thriller</td>\n",
       "      <td>...</td>\n",
       "      <td>2701.0</td>\n",
       "      <td>English</td>\n",
       "      <td>USA</td>\n",
       "      <td>PG-13</td>\n",
       "      <td>250000000.0</td>\n",
       "      <td>2012.0</td>\n",
       "      <td>23000.0</td>\n",
       "      <td>8.5</td>\n",
       "      <td>2.35</td>\n",
       "      <td>164000</td>\n",
       "    </tr>\n",
       "    <tr>\n",
       "      <th>5</th>\n",
       "      <td>Color</td>\n",
       "      <td>Andrew Stanton</td>\n",
       "      <td>462.0</td>\n",
       "      <td>132.0</td>\n",
       "      <td>475.0</td>\n",
       "      <td>530.0</td>\n",
       "      <td>Samantha Morton</td>\n",
       "      <td>640.0</td>\n",
       "      <td>73058679.0</td>\n",
       "      <td>Action|Adventure|Sci-Fi</td>\n",
       "      <td>...</td>\n",
       "      <td>738.0</td>\n",
       "      <td>English</td>\n",
       "      <td>USA</td>\n",
       "      <td>PG-13</td>\n",
       "      <td>263700000.0</td>\n",
       "      <td>2012.0</td>\n",
       "      <td>632.0</td>\n",
       "      <td>6.6</td>\n",
       "      <td>2.35</td>\n",
       "      <td>24000</td>\n",
       "    </tr>\n",
       "    <tr>\n",
       "      <th>6</th>\n",
       "      <td>Color</td>\n",
       "      <td>Sam Raimi</td>\n",
       "      <td>392.0</td>\n",
       "      <td>156.0</td>\n",
       "      <td>0.0</td>\n",
       "      <td>4000.0</td>\n",
       "      <td>James Franco</td>\n",
       "      <td>24000.0</td>\n",
       "      <td>336530303.0</td>\n",
       "      <td>Action|Adventure|Romance</td>\n",
       "      <td>...</td>\n",
       "      <td>1902.0</td>\n",
       "      <td>English</td>\n",
       "      <td>USA</td>\n",
       "      <td>PG-13</td>\n",
       "      <td>258000000.0</td>\n",
       "      <td>2007.0</td>\n",
       "      <td>11000.0</td>\n",
       "      <td>6.2</td>\n",
       "      <td>2.35</td>\n",
       "      <td>0</td>\n",
       "    </tr>\n",
       "    <tr>\n",
       "      <th>7</th>\n",
       "      <td>Color</td>\n",
       "      <td>Nathan Greno</td>\n",
       "      <td>324.0</td>\n",
       "      <td>100.0</td>\n",
       "      <td>15.0</td>\n",
       "      <td>284.0</td>\n",
       "      <td>Donna Murphy</td>\n",
       "      <td>799.0</td>\n",
       "      <td>200807262.0</td>\n",
       "      <td>Adventure|Animation|Comedy|Family|Fantasy|Musi...</td>\n",
       "      <td>...</td>\n",
       "      <td>387.0</td>\n",
       "      <td>English</td>\n",
       "      <td>USA</td>\n",
       "      <td>PG</td>\n",
       "      <td>260000000.0</td>\n",
       "      <td>2010.0</td>\n",
       "      <td>553.0</td>\n",
       "      <td>7.8</td>\n",
       "      <td>1.85</td>\n",
       "      <td>29000</td>\n",
       "    </tr>\n",
       "    <tr>\n",
       "      <th>8</th>\n",
       "      <td>Color</td>\n",
       "      <td>Joss Whedon</td>\n",
       "      <td>635.0</td>\n",
       "      <td>141.0</td>\n",
       "      <td>0.0</td>\n",
       "      <td>19000.0</td>\n",
       "      <td>Robert Downey Jr.</td>\n",
       "      <td>26000.0</td>\n",
       "      <td>458991599.0</td>\n",
       "      <td>Action|Adventure|Sci-Fi</td>\n",
       "      <td>...</td>\n",
       "      <td>1117.0</td>\n",
       "      <td>English</td>\n",
       "      <td>USA</td>\n",
       "      <td>PG-13</td>\n",
       "      <td>250000000.0</td>\n",
       "      <td>2015.0</td>\n",
       "      <td>21000.0</td>\n",
       "      <td>7.5</td>\n",
       "      <td>2.35</td>\n",
       "      <td>118000</td>\n",
       "    </tr>\n",
       "    <tr>\n",
       "      <th>9</th>\n",
       "      <td>Color</td>\n",
       "      <td>David Yates</td>\n",
       "      <td>375.0</td>\n",
       "      <td>153.0</td>\n",
       "      <td>282.0</td>\n",
       "      <td>10000.0</td>\n",
       "      <td>Daniel Radcliffe</td>\n",
       "      <td>25000.0</td>\n",
       "      <td>301956980.0</td>\n",
       "      <td>Adventure|Family|Fantasy|Mystery</td>\n",
       "      <td>...</td>\n",
       "      <td>973.0</td>\n",
       "      <td>English</td>\n",
       "      <td>UK</td>\n",
       "      <td>PG</td>\n",
       "      <td>250000000.0</td>\n",
       "      <td>2009.0</td>\n",
       "      <td>11000.0</td>\n",
       "      <td>7.5</td>\n",
       "      <td>2.35</td>\n",
       "      <td>10000</td>\n",
       "    </tr>\n",
       "    <tr>\n",
       "      <th>10</th>\n",
       "      <td>Color</td>\n",
       "      <td>Zack Snyder</td>\n",
       "      <td>673.0</td>\n",
       "      <td>183.0</td>\n",
       "      <td>0.0</td>\n",
       "      <td>2000.0</td>\n",
       "      <td>Lauren Cohan</td>\n",
       "      <td>15000.0</td>\n",
       "      <td>330249062.0</td>\n",
       "      <td>Action|Adventure|Sci-Fi</td>\n",
       "      <td>...</td>\n",
       "      <td>3018.0</td>\n",
       "      <td>English</td>\n",
       "      <td>USA</td>\n",
       "      <td>PG-13</td>\n",
       "      <td>250000000.0</td>\n",
       "      <td>2016.0</td>\n",
       "      <td>4000.0</td>\n",
       "      <td>6.9</td>\n",
       "      <td>2.35</td>\n",
       "      <td>197000</td>\n",
       "    </tr>\n",
       "    <tr>\n",
       "      <th>11</th>\n",
       "      <td>Color</td>\n",
       "      <td>Bryan Singer</td>\n",
       "      <td>434.0</td>\n",
       "      <td>169.0</td>\n",
       "      <td>0.0</td>\n",
       "      <td>903.0</td>\n",
       "      <td>Marlon Brando</td>\n",
       "      <td>18000.0</td>\n",
       "      <td>200069408.0</td>\n",
       "      <td>Action|Adventure|Sci-Fi</td>\n",
       "      <td>...</td>\n",
       "      <td>2367.0</td>\n",
       "      <td>English</td>\n",
       "      <td>USA</td>\n",
       "      <td>PG-13</td>\n",
       "      <td>209000000.0</td>\n",
       "      <td>2006.0</td>\n",
       "      <td>10000.0</td>\n",
       "      <td>6.1</td>\n",
       "      <td>2.35</td>\n",
       "      <td>0</td>\n",
       "    </tr>\n",
       "    <tr>\n",
       "      <th>12</th>\n",
       "      <td>Color</td>\n",
       "      <td>Marc Forster</td>\n",
       "      <td>403.0</td>\n",
       "      <td>106.0</td>\n",
       "      <td>395.0</td>\n",
       "      <td>393.0</td>\n",
       "      <td>Mathieu Amalric</td>\n",
       "      <td>451.0</td>\n",
       "      <td>168368427.0</td>\n",
       "      <td>Action|Adventure</td>\n",
       "      <td>...</td>\n",
       "      <td>1243.0</td>\n",
       "      <td>English</td>\n",
       "      <td>UK</td>\n",
       "      <td>PG-13</td>\n",
       "      <td>200000000.0</td>\n",
       "      <td>2008.0</td>\n",
       "      <td>412.0</td>\n",
       "      <td>6.7</td>\n",
       "      <td>2.35</td>\n",
       "      <td>0</td>\n",
       "    </tr>\n",
       "    <tr>\n",
       "      <th>13</th>\n",
       "      <td>Color</td>\n",
       "      <td>Gore Verbinski</td>\n",
       "      <td>313.0</td>\n",
       "      <td>151.0</td>\n",
       "      <td>563.0</td>\n",
       "      <td>1000.0</td>\n",
       "      <td>Orlando Bloom</td>\n",
       "      <td>40000.0</td>\n",
       "      <td>423032628.0</td>\n",
       "      <td>Action|Adventure|Fantasy</td>\n",
       "      <td>...</td>\n",
       "      <td>1832.0</td>\n",
       "      <td>English</td>\n",
       "      <td>USA</td>\n",
       "      <td>PG-13</td>\n",
       "      <td>225000000.0</td>\n",
       "      <td>2006.0</td>\n",
       "      <td>5000.0</td>\n",
       "      <td>7.3</td>\n",
       "      <td>2.35</td>\n",
       "      <td>5000</td>\n",
       "    </tr>\n",
       "    <tr>\n",
       "      <th>14</th>\n",
       "      <td>Color</td>\n",
       "      <td>Gore Verbinski</td>\n",
       "      <td>450.0</td>\n",
       "      <td>150.0</td>\n",
       "      <td>563.0</td>\n",
       "      <td>1000.0</td>\n",
       "      <td>Ruth Wilson</td>\n",
       "      <td>40000.0</td>\n",
       "      <td>89289910.0</td>\n",
       "      <td>Action|Adventure|Western</td>\n",
       "      <td>...</td>\n",
       "      <td>711.0</td>\n",
       "      <td>English</td>\n",
       "      <td>USA</td>\n",
       "      <td>PG-13</td>\n",
       "      <td>215000000.0</td>\n",
       "      <td>2013.0</td>\n",
       "      <td>2000.0</td>\n",
       "      <td>6.5</td>\n",
       "      <td>2.35</td>\n",
       "      <td>48000</td>\n",
       "    </tr>\n",
       "    <tr>\n",
       "      <th>15</th>\n",
       "      <td>Color</td>\n",
       "      <td>Zack Snyder</td>\n",
       "      <td>733.0</td>\n",
       "      <td>143.0</td>\n",
       "      <td>0.0</td>\n",
       "      <td>748.0</td>\n",
       "      <td>Christopher Meloni</td>\n",
       "      <td>15000.0</td>\n",
       "      <td>291021565.0</td>\n",
       "      <td>Action|Adventure|Fantasy|Sci-Fi</td>\n",
       "      <td>...</td>\n",
       "      <td>2536.0</td>\n",
       "      <td>English</td>\n",
       "      <td>USA</td>\n",
       "      <td>PG-13</td>\n",
       "      <td>225000000.0</td>\n",
       "      <td>2013.0</td>\n",
       "      <td>3000.0</td>\n",
       "      <td>7.2</td>\n",
       "      <td>2.35</td>\n",
       "      <td>118000</td>\n",
       "    </tr>\n",
       "    <tr>\n",
       "      <th>16</th>\n",
       "      <td>Color</td>\n",
       "      <td>Andrew Adamson</td>\n",
       "      <td>258.0</td>\n",
       "      <td>150.0</td>\n",
       "      <td>80.0</td>\n",
       "      <td>201.0</td>\n",
       "      <td>Pierfrancesco Favino</td>\n",
       "      <td>22000.0</td>\n",
       "      <td>141614023.0</td>\n",
       "      <td>Action|Adventure|Family|Fantasy</td>\n",
       "      <td>...</td>\n",
       "      <td>438.0</td>\n",
       "      <td>English</td>\n",
       "      <td>USA</td>\n",
       "      <td>PG</td>\n",
       "      <td>225000000.0</td>\n",
       "      <td>2008.0</td>\n",
       "      <td>216.0</td>\n",
       "      <td>6.6</td>\n",
       "      <td>2.35</td>\n",
       "      <td>0</td>\n",
       "    </tr>\n",
       "    <tr>\n",
       "      <th>17</th>\n",
       "      <td>Color</td>\n",
       "      <td>Joss Whedon</td>\n",
       "      <td>703.0</td>\n",
       "      <td>173.0</td>\n",
       "      <td>0.0</td>\n",
       "      <td>19000.0</td>\n",
       "      <td>Robert Downey Jr.</td>\n",
       "      <td>26000.0</td>\n",
       "      <td>623279547.0</td>\n",
       "      <td>Action|Adventure|Sci-Fi</td>\n",
       "      <td>...</td>\n",
       "      <td>1722.0</td>\n",
       "      <td>English</td>\n",
       "      <td>USA</td>\n",
       "      <td>PG-13</td>\n",
       "      <td>220000000.0</td>\n",
       "      <td>2012.0</td>\n",
       "      <td>21000.0</td>\n",
       "      <td>8.1</td>\n",
       "      <td>1.85</td>\n",
       "      <td>123000</td>\n",
       "    </tr>\n",
       "    <tr>\n",
       "      <th>18</th>\n",
       "      <td>Color</td>\n",
       "      <td>Rob Marshall</td>\n",
       "      <td>448.0</td>\n",
       "      <td>136.0</td>\n",
       "      <td>252.0</td>\n",
       "      <td>1000.0</td>\n",
       "      <td>Sam Claflin</td>\n",
       "      <td>40000.0</td>\n",
       "      <td>241063875.0</td>\n",
       "      <td>Action|Adventure|Fantasy</td>\n",
       "      <td>...</td>\n",
       "      <td>484.0</td>\n",
       "      <td>English</td>\n",
       "      <td>USA</td>\n",
       "      <td>PG-13</td>\n",
       "      <td>250000000.0</td>\n",
       "      <td>2011.0</td>\n",
       "      <td>11000.0</td>\n",
       "      <td>6.7</td>\n",
       "      <td>2.35</td>\n",
       "      <td>58000</td>\n",
       "    </tr>\n",
       "    <tr>\n",
       "      <th>19</th>\n",
       "      <td>Color</td>\n",
       "      <td>Barry Sonnenfeld</td>\n",
       "      <td>451.0</td>\n",
       "      <td>106.0</td>\n",
       "      <td>188.0</td>\n",
       "      <td>718.0</td>\n",
       "      <td>Michael Stuhlbarg</td>\n",
       "      <td>10000.0</td>\n",
       "      <td>179020854.0</td>\n",
       "      <td>Action|Adventure|Comedy|Family|Fantasy|Sci-Fi</td>\n",
       "      <td>...</td>\n",
       "      <td>341.0</td>\n",
       "      <td>English</td>\n",
       "      <td>USA</td>\n",
       "      <td>PG-13</td>\n",
       "      <td>225000000.0</td>\n",
       "      <td>2012.0</td>\n",
       "      <td>816.0</td>\n",
       "      <td>6.8</td>\n",
       "      <td>1.85</td>\n",
       "      <td>40000</td>\n",
       "    </tr>\n",
       "    <tr>\n",
       "      <th>20</th>\n",
       "      <td>Color</td>\n",
       "      <td>Peter Jackson</td>\n",
       "      <td>422.0</td>\n",
       "      <td>164.0</td>\n",
       "      <td>0.0</td>\n",
       "      <td>773.0</td>\n",
       "      <td>Adam Brown</td>\n",
       "      <td>5000.0</td>\n",
       "      <td>255108370.0</td>\n",
       "      <td>Adventure|Fantasy</td>\n",
       "      <td>...</td>\n",
       "      <td>802.0</td>\n",
       "      <td>English</td>\n",
       "      <td>New Zealand</td>\n",
       "      <td>PG-13</td>\n",
       "      <td>250000000.0</td>\n",
       "      <td>2014.0</td>\n",
       "      <td>972.0</td>\n",
       "      <td>7.5</td>\n",
       "      <td>2.35</td>\n",
       "      <td>65000</td>\n",
       "    </tr>\n",
       "    <tr>\n",
       "      <th>21</th>\n",
       "      <td>Color</td>\n",
       "      <td>Marc Webb</td>\n",
       "      <td>599.0</td>\n",
       "      <td>153.0</td>\n",
       "      <td>464.0</td>\n",
       "      <td>963.0</td>\n",
       "      <td>Andrew Garfield</td>\n",
       "      <td>15000.0</td>\n",
       "      <td>262030663.0</td>\n",
       "      <td>Action|Adventure|Fantasy</td>\n",
       "      <td>...</td>\n",
       "      <td>1225.0</td>\n",
       "      <td>English</td>\n",
       "      <td>USA</td>\n",
       "      <td>PG-13</td>\n",
       "      <td>230000000.0</td>\n",
       "      <td>2012.0</td>\n",
       "      <td>10000.0</td>\n",
       "      <td>7.0</td>\n",
       "      <td>2.35</td>\n",
       "      <td>56000</td>\n",
       "    </tr>\n",
       "    <tr>\n",
       "      <th>22</th>\n",
       "      <td>Color</td>\n",
       "      <td>Ridley Scott</td>\n",
       "      <td>343.0</td>\n",
       "      <td>156.0</td>\n",
       "      <td>0.0</td>\n",
       "      <td>738.0</td>\n",
       "      <td>William Hurt</td>\n",
       "      <td>891.0</td>\n",
       "      <td>105219735.0</td>\n",
       "      <td>Action|Adventure|Drama|History</td>\n",
       "      <td>...</td>\n",
       "      <td>546.0</td>\n",
       "      <td>English</td>\n",
       "      <td>USA</td>\n",
       "      <td>PG-13</td>\n",
       "      <td>200000000.0</td>\n",
       "      <td>2010.0</td>\n",
       "      <td>882.0</td>\n",
       "      <td>6.7</td>\n",
       "      <td>2.35</td>\n",
       "      <td>17000</td>\n",
       "    </tr>\n",
       "    <tr>\n",
       "      <th>23</th>\n",
       "      <td>Color</td>\n",
       "      <td>Peter Jackson</td>\n",
       "      <td>509.0</td>\n",
       "      <td>186.0</td>\n",
       "      <td>0.0</td>\n",
       "      <td>773.0</td>\n",
       "      <td>Adam Brown</td>\n",
       "      <td>5000.0</td>\n",
       "      <td>258355354.0</td>\n",
       "      <td>Adventure|Fantasy</td>\n",
       "      <td>...</td>\n",
       "      <td>951.0</td>\n",
       "      <td>English</td>\n",
       "      <td>USA</td>\n",
       "      <td>PG-13</td>\n",
       "      <td>225000000.0</td>\n",
       "      <td>2013.0</td>\n",
       "      <td>972.0</td>\n",
       "      <td>7.9</td>\n",
       "      <td>2.35</td>\n",
       "      <td>83000</td>\n",
       "    </tr>\n",
       "    <tr>\n",
       "      <th>24</th>\n",
       "      <td>Color</td>\n",
       "      <td>Chris Weitz</td>\n",
       "      <td>251.0</td>\n",
       "      <td>113.0</td>\n",
       "      <td>129.0</td>\n",
       "      <td>1000.0</td>\n",
       "      <td>Eva Green</td>\n",
       "      <td>16000.0</td>\n",
       "      <td>70083519.0</td>\n",
       "      <td>Adventure|Family|Fantasy</td>\n",
       "      <td>...</td>\n",
       "      <td>666.0</td>\n",
       "      <td>English</td>\n",
       "      <td>USA</td>\n",
       "      <td>PG-13</td>\n",
       "      <td>180000000.0</td>\n",
       "      <td>2007.0</td>\n",
       "      <td>6000.0</td>\n",
       "      <td>6.1</td>\n",
       "      <td>2.35</td>\n",
       "      <td>0</td>\n",
       "    </tr>\n",
       "    <tr>\n",
       "      <th>25</th>\n",
       "      <td>Color</td>\n",
       "      <td>Peter Jackson</td>\n",
       "      <td>446.0</td>\n",
       "      <td>201.0</td>\n",
       "      <td>0.0</td>\n",
       "      <td>84.0</td>\n",
       "      <td>Thomas Kretschmann</td>\n",
       "      <td>6000.0</td>\n",
       "      <td>218051260.0</td>\n",
       "      <td>Action|Adventure|Drama|Romance</td>\n",
       "      <td>...</td>\n",
       "      <td>2618.0</td>\n",
       "      <td>English</td>\n",
       "      <td>New Zealand</td>\n",
       "      <td>PG-13</td>\n",
       "      <td>207000000.0</td>\n",
       "      <td>2005.0</td>\n",
       "      <td>919.0</td>\n",
       "      <td>7.2</td>\n",
       "      <td>2.35</td>\n",
       "      <td>0</td>\n",
       "    </tr>\n",
       "    <tr>\n",
       "      <th>26</th>\n",
       "      <td>Color</td>\n",
       "      <td>James Cameron</td>\n",
       "      <td>315.0</td>\n",
       "      <td>194.0</td>\n",
       "      <td>0.0</td>\n",
       "      <td>794.0</td>\n",
       "      <td>Kate Winslet</td>\n",
       "      <td>29000.0</td>\n",
       "      <td>658672302.0</td>\n",
       "      <td>Drama|Romance</td>\n",
       "      <td>...</td>\n",
       "      <td>2528.0</td>\n",
       "      <td>English</td>\n",
       "      <td>USA</td>\n",
       "      <td>PG-13</td>\n",
       "      <td>200000000.0</td>\n",
       "      <td>1997.0</td>\n",
       "      <td>14000.0</td>\n",
       "      <td>7.7</td>\n",
       "      <td>2.35</td>\n",
       "      <td>26000</td>\n",
       "    </tr>\n",
       "    <tr>\n",
       "      <th>27</th>\n",
       "      <td>Color</td>\n",
       "      <td>Anthony Russo</td>\n",
       "      <td>516.0</td>\n",
       "      <td>147.0</td>\n",
       "      <td>94.0</td>\n",
       "      <td>11000.0</td>\n",
       "      <td>Scarlett Johansson</td>\n",
       "      <td>21000.0</td>\n",
       "      <td>407197282.0</td>\n",
       "      <td>Action|Adventure|Sci-Fi</td>\n",
       "      <td>...</td>\n",
       "      <td>1022.0</td>\n",
       "      <td>English</td>\n",
       "      <td>USA</td>\n",
       "      <td>PG-13</td>\n",
       "      <td>250000000.0</td>\n",
       "      <td>2016.0</td>\n",
       "      <td>19000.0</td>\n",
       "      <td>8.2</td>\n",
       "      <td>2.35</td>\n",
       "      <td>72000</td>\n",
       "    </tr>\n",
       "    <tr>\n",
       "      <th>28</th>\n",
       "      <td>Color</td>\n",
       "      <td>Peter Berg</td>\n",
       "      <td>377.0</td>\n",
       "      <td>131.0</td>\n",
       "      <td>532.0</td>\n",
       "      <td>627.0</td>\n",
       "      <td>Alexander Skarsgård</td>\n",
       "      <td>14000.0</td>\n",
       "      <td>65173160.0</td>\n",
       "      <td>Action|Adventure|Sci-Fi|Thriller</td>\n",
       "      <td>...</td>\n",
       "      <td>751.0</td>\n",
       "      <td>English</td>\n",
       "      <td>USA</td>\n",
       "      <td>PG-13</td>\n",
       "      <td>209000000.0</td>\n",
       "      <td>2012.0</td>\n",
       "      <td>10000.0</td>\n",
       "      <td>5.9</td>\n",
       "      <td>2.35</td>\n",
       "      <td>44000</td>\n",
       "    </tr>\n",
       "    <tr>\n",
       "      <th>29</th>\n",
       "      <td>Color</td>\n",
       "      <td>Colin Trevorrow</td>\n",
       "      <td>644.0</td>\n",
       "      <td>124.0</td>\n",
       "      <td>365.0</td>\n",
       "      <td>1000.0</td>\n",
       "      <td>Judy Greer</td>\n",
       "      <td>3000.0</td>\n",
       "      <td>652177271.0</td>\n",
       "      <td>Action|Adventure|Sci-Fi|Thriller</td>\n",
       "      <td>...</td>\n",
       "      <td>1290.0</td>\n",
       "      <td>English</td>\n",
       "      <td>USA</td>\n",
       "      <td>PG-13</td>\n",
       "      <td>150000000.0</td>\n",
       "      <td>2015.0</td>\n",
       "      <td>2000.0</td>\n",
       "      <td>7.0</td>\n",
       "      <td>2.00</td>\n",
       "      <td>150000</td>\n",
       "    </tr>\n",
       "    <tr>\n",
       "      <th>30</th>\n",
       "      <td>Color</td>\n",
       "      <td>Sam Mendes</td>\n",
       "      <td>750.0</td>\n",
       "      <td>143.0</td>\n",
       "      <td>0.0</td>\n",
       "      <td>393.0</td>\n",
       "      <td>Helen McCrory</td>\n",
       "      <td>883.0</td>\n",
       "      <td>304360277.0</td>\n",
       "      <td>Action|Adventure|Thriller</td>\n",
       "      <td>...</td>\n",
       "      <td>1498.0</td>\n",
       "      <td>English</td>\n",
       "      <td>UK</td>\n",
       "      <td>PG-13</td>\n",
       "      <td>200000000.0</td>\n",
       "      <td>2012.0</td>\n",
       "      <td>563.0</td>\n",
       "      <td>7.8</td>\n",
       "      <td>2.35</td>\n",
       "      <td>80000</td>\n",
       "    </tr>\n",
       "    <tr>\n",
       "      <th>...</th>\n",
       "      <td>...</td>\n",
       "      <td>...</td>\n",
       "      <td>...</td>\n",
       "      <td>...</td>\n",
       "      <td>...</td>\n",
       "      <td>...</td>\n",
       "      <td>...</td>\n",
       "      <td>...</td>\n",
       "      <td>...</td>\n",
       "      <td>...</td>\n",
       "      <td>...</td>\n",
       "      <td>...</td>\n",
       "      <td>...</td>\n",
       "      <td>...</td>\n",
       "      <td>...</td>\n",
       "      <td>...</td>\n",
       "      <td>...</td>\n",
       "      <td>...</td>\n",
       "      <td>...</td>\n",
       "      <td>...</td>\n",
       "      <td>...</td>\n",
       "    </tr>\n",
       "    <tr>\n",
       "      <th>5012</th>\n",
       "      <td>Color</td>\n",
       "      <td>David Ayer</td>\n",
       "      <td>233.0</td>\n",
       "      <td>109.0</td>\n",
       "      <td>453.0</td>\n",
       "      <td>120.0</td>\n",
       "      <td>Martin Donovan</td>\n",
       "      <td>1000.0</td>\n",
       "      <td>10499968.0</td>\n",
       "      <td>Action|Crime|Drama|Thriller</td>\n",
       "      <td>...</td>\n",
       "      <td>212.0</td>\n",
       "      <td>English</td>\n",
       "      <td>USA</td>\n",
       "      <td>R</td>\n",
       "      <td>35000000.0</td>\n",
       "      <td>2014.0</td>\n",
       "      <td>206.0</td>\n",
       "      <td>5.7</td>\n",
       "      <td>1.85</td>\n",
       "      <td>10000</td>\n",
       "    </tr>\n",
       "    <tr>\n",
       "      <th>5013</th>\n",
       "      <td>Color</td>\n",
       "      <td>Eric Eason</td>\n",
       "      <td>28.0</td>\n",
       "      <td>79.0</td>\n",
       "      <td>3.0</td>\n",
       "      <td>42.0</td>\n",
       "      <td>Panchito Gómez</td>\n",
       "      <td>93.0</td>\n",
       "      <td>NaN</td>\n",
       "      <td>Drama|Family</td>\n",
       "      <td>...</td>\n",
       "      <td>21.0</td>\n",
       "      <td>English</td>\n",
       "      <td>USA</td>\n",
       "      <td>NaN</td>\n",
       "      <td>24000.0</td>\n",
       "      <td>2002.0</td>\n",
       "      <td>46.0</td>\n",
       "      <td>7.0</td>\n",
       "      <td>1.78</td>\n",
       "      <td>61</td>\n",
       "    </tr>\n",
       "    <tr>\n",
       "      <th>5014</th>\n",
       "      <td>Color</td>\n",
       "      <td>Uwe Boll</td>\n",
       "      <td>58.0</td>\n",
       "      <td>80.0</td>\n",
       "      <td>892.0</td>\n",
       "      <td>492.0</td>\n",
       "      <td>Katharine Isabelle</td>\n",
       "      <td>986.0</td>\n",
       "      <td>NaN</td>\n",
       "      <td>Action|Crime|Thriller</td>\n",
       "      <td>...</td>\n",
       "      <td>129.0</td>\n",
       "      <td>English</td>\n",
       "      <td>Canada</td>\n",
       "      <td>R</td>\n",
       "      <td>NaN</td>\n",
       "      <td>2009.0</td>\n",
       "      <td>918.0</td>\n",
       "      <td>6.3</td>\n",
       "      <td>2.35</td>\n",
       "      <td>0</td>\n",
       "    </tr>\n",
       "    <tr>\n",
       "      <th>5015</th>\n",
       "      <td>Black and White</td>\n",
       "      <td>Richard Linklater</td>\n",
       "      <td>61.0</td>\n",
       "      <td>100.0</td>\n",
       "      <td>0.0</td>\n",
       "      <td>0.0</td>\n",
       "      <td>Richard Linklater</td>\n",
       "      <td>5.0</td>\n",
       "      <td>1227508.0</td>\n",
       "      <td>Comedy|Drama</td>\n",
       "      <td>...</td>\n",
       "      <td>80.0</td>\n",
       "      <td>English</td>\n",
       "      <td>USA</td>\n",
       "      <td>R</td>\n",
       "      <td>23000.0</td>\n",
       "      <td>1991.0</td>\n",
       "      <td>0.0</td>\n",
       "      <td>7.1</td>\n",
       "      <td>1.37</td>\n",
       "      <td>2000</td>\n",
       "    </tr>\n",
       "    <tr>\n",
       "      <th>5016</th>\n",
       "      <td>Color</td>\n",
       "      <td>Joseph Mazzella</td>\n",
       "      <td>NaN</td>\n",
       "      <td>90.0</td>\n",
       "      <td>0.0</td>\n",
       "      <td>9.0</td>\n",
       "      <td>Mikaal Bates</td>\n",
       "      <td>313.0</td>\n",
       "      <td>NaN</td>\n",
       "      <td>Crime|Drama|Thriller</td>\n",
       "      <td>...</td>\n",
       "      <td>2.0</td>\n",
       "      <td>English</td>\n",
       "      <td>USA</td>\n",
       "      <td>NaN</td>\n",
       "      <td>25000.0</td>\n",
       "      <td>2015.0</td>\n",
       "      <td>25.0</td>\n",
       "      <td>4.8</td>\n",
       "      <td>NaN</td>\n",
       "      <td>33</td>\n",
       "    </tr>\n",
       "    <tr>\n",
       "      <th>5017</th>\n",
       "      <td>Color</td>\n",
       "      <td>Travis Legge</td>\n",
       "      <td>1.0</td>\n",
       "      <td>90.0</td>\n",
       "      <td>138.0</td>\n",
       "      <td>138.0</td>\n",
       "      <td>Suzi Lorraine</td>\n",
       "      <td>370.0</td>\n",
       "      <td>NaN</td>\n",
       "      <td>Comedy|Romance</td>\n",
       "      <td>...</td>\n",
       "      <td>3.0</td>\n",
       "      <td>English</td>\n",
       "      <td>USA</td>\n",
       "      <td>NaN</td>\n",
       "      <td>22000.0</td>\n",
       "      <td>2013.0</td>\n",
       "      <td>184.0</td>\n",
       "      <td>3.3</td>\n",
       "      <td>1.78</td>\n",
       "      <td>200</td>\n",
       "    </tr>\n",
       "    <tr>\n",
       "      <th>5018</th>\n",
       "      <td>Color</td>\n",
       "      <td>Alex Kendrick</td>\n",
       "      <td>5.0</td>\n",
       "      <td>120.0</td>\n",
       "      <td>589.0</td>\n",
       "      <td>4.0</td>\n",
       "      <td>Lisa Arnold</td>\n",
       "      <td>51.0</td>\n",
       "      <td>NaN</td>\n",
       "      <td>Drama</td>\n",
       "      <td>...</td>\n",
       "      <td>49.0</td>\n",
       "      <td>English</td>\n",
       "      <td>USA</td>\n",
       "      <td>NaN</td>\n",
       "      <td>20000.0</td>\n",
       "      <td>2003.0</td>\n",
       "      <td>49.0</td>\n",
       "      <td>6.9</td>\n",
       "      <td>1.85</td>\n",
       "      <td>725</td>\n",
       "    </tr>\n",
       "    <tr>\n",
       "      <th>5019</th>\n",
       "      <td>Color</td>\n",
       "      <td>Marcus Nispel</td>\n",
       "      <td>43.0</td>\n",
       "      <td>91.0</td>\n",
       "      <td>158.0</td>\n",
       "      <td>265.0</td>\n",
       "      <td>Brittany Curran</td>\n",
       "      <td>630.0</td>\n",
       "      <td>NaN</td>\n",
       "      <td>Horror|Mystery|Thriller</td>\n",
       "      <td>...</td>\n",
       "      <td>33.0</td>\n",
       "      <td>English</td>\n",
       "      <td>USA</td>\n",
       "      <td>R</td>\n",
       "      <td>NaN</td>\n",
       "      <td>2015.0</td>\n",
       "      <td>512.0</td>\n",
       "      <td>4.6</td>\n",
       "      <td>1.85</td>\n",
       "      <td>0</td>\n",
       "    </tr>\n",
       "    <tr>\n",
       "      <th>5020</th>\n",
       "      <td>NaN</td>\n",
       "      <td>Brandon Landers</td>\n",
       "      <td>NaN</td>\n",
       "      <td>143.0</td>\n",
       "      <td>8.0</td>\n",
       "      <td>8.0</td>\n",
       "      <td>Alana Kaniewski</td>\n",
       "      <td>720.0</td>\n",
       "      <td>NaN</td>\n",
       "      <td>Drama|Horror|Thriller</td>\n",
       "      <td>...</td>\n",
       "      <td>8.0</td>\n",
       "      <td>English</td>\n",
       "      <td>USA</td>\n",
       "      <td>NaN</td>\n",
       "      <td>17350.0</td>\n",
       "      <td>2011.0</td>\n",
       "      <td>19.0</td>\n",
       "      <td>3.0</td>\n",
       "      <td>NaN</td>\n",
       "      <td>33</td>\n",
       "    </tr>\n",
       "    <tr>\n",
       "      <th>5021</th>\n",
       "      <td>Color</td>\n",
       "      <td>Jay Duplass</td>\n",
       "      <td>51.0</td>\n",
       "      <td>85.0</td>\n",
       "      <td>157.0</td>\n",
       "      <td>10.0</td>\n",
       "      <td>Katie Aselton</td>\n",
       "      <td>830.0</td>\n",
       "      <td>192467.0</td>\n",
       "      <td>Comedy|Drama|Romance</td>\n",
       "      <td>...</td>\n",
       "      <td>71.0</td>\n",
       "      <td>English</td>\n",
       "      <td>USA</td>\n",
       "      <td>R</td>\n",
       "      <td>15000.0</td>\n",
       "      <td>2005.0</td>\n",
       "      <td>224.0</td>\n",
       "      <td>6.6</td>\n",
       "      <td>NaN</td>\n",
       "      <td>297</td>\n",
       "    </tr>\n",
       "    <tr>\n",
       "      <th>5022</th>\n",
       "      <td>Black and White</td>\n",
       "      <td>Jim Chuchu</td>\n",
       "      <td>6.0</td>\n",
       "      <td>60.0</td>\n",
       "      <td>0.0</td>\n",
       "      <td>4.0</td>\n",
       "      <td>Olwenya Maina</td>\n",
       "      <td>147.0</td>\n",
       "      <td>NaN</td>\n",
       "      <td>Drama</td>\n",
       "      <td>...</td>\n",
       "      <td>1.0</td>\n",
       "      <td>Swahili</td>\n",
       "      <td>Kenya</td>\n",
       "      <td>NaN</td>\n",
       "      <td>15000.0</td>\n",
       "      <td>2014.0</td>\n",
       "      <td>19.0</td>\n",
       "      <td>7.4</td>\n",
       "      <td>NaN</td>\n",
       "      <td>45</td>\n",
       "    </tr>\n",
       "    <tr>\n",
       "      <th>5023</th>\n",
       "      <td>Color</td>\n",
       "      <td>Daryl Wein</td>\n",
       "      <td>22.0</td>\n",
       "      <td>88.0</td>\n",
       "      <td>38.0</td>\n",
       "      <td>211.0</td>\n",
       "      <td>Heather Burns</td>\n",
       "      <td>331.0</td>\n",
       "      <td>76382.0</td>\n",
       "      <td>Romance</td>\n",
       "      <td>...</td>\n",
       "      <td>8.0</td>\n",
       "      <td>English</td>\n",
       "      <td>USA</td>\n",
       "      <td>NaN</td>\n",
       "      <td>15000.0</td>\n",
       "      <td>2009.0</td>\n",
       "      <td>212.0</td>\n",
       "      <td>6.2</td>\n",
       "      <td>2.35</td>\n",
       "      <td>324</td>\n",
       "    </tr>\n",
       "    <tr>\n",
       "      <th>5024</th>\n",
       "      <td>Color</td>\n",
       "      <td>Jason Trost</td>\n",
       "      <td>42.0</td>\n",
       "      <td>78.0</td>\n",
       "      <td>91.0</td>\n",
       "      <td>86.0</td>\n",
       "      <td>Jason Trost</td>\n",
       "      <td>407.0</td>\n",
       "      <td>NaN</td>\n",
       "      <td>Sci-Fi|Thriller</td>\n",
       "      <td>...</td>\n",
       "      <td>35.0</td>\n",
       "      <td>English</td>\n",
       "      <td>USA</td>\n",
       "      <td>Unrated</td>\n",
       "      <td>20000.0</td>\n",
       "      <td>2011.0</td>\n",
       "      <td>91.0</td>\n",
       "      <td>4.0</td>\n",
       "      <td>2.35</td>\n",
       "      <td>835</td>\n",
       "    </tr>\n",
       "    <tr>\n",
       "      <th>5025</th>\n",
       "      <td>Color</td>\n",
       "      <td>John Waters</td>\n",
       "      <td>73.0</td>\n",
       "      <td>108.0</td>\n",
       "      <td>0.0</td>\n",
       "      <td>105.0</td>\n",
       "      <td>Mink Stole</td>\n",
       "      <td>462.0</td>\n",
       "      <td>180483.0</td>\n",
       "      <td>Comedy|Crime|Horror</td>\n",
       "      <td>...</td>\n",
       "      <td>183.0</td>\n",
       "      <td>English</td>\n",
       "      <td>USA</td>\n",
       "      <td>NC-17</td>\n",
       "      <td>10000.0</td>\n",
       "      <td>1972.0</td>\n",
       "      <td>143.0</td>\n",
       "      <td>6.1</td>\n",
       "      <td>1.37</td>\n",
       "      <td>0</td>\n",
       "    </tr>\n",
       "    <tr>\n",
       "      <th>5026</th>\n",
       "      <td>Color</td>\n",
       "      <td>Olivier Assayas</td>\n",
       "      <td>81.0</td>\n",
       "      <td>110.0</td>\n",
       "      <td>107.0</td>\n",
       "      <td>45.0</td>\n",
       "      <td>Béatrice Dalle</td>\n",
       "      <td>576.0</td>\n",
       "      <td>136007.0</td>\n",
       "      <td>Drama|Music|Romance</td>\n",
       "      <td>...</td>\n",
       "      <td>39.0</td>\n",
       "      <td>French</td>\n",
       "      <td>France</td>\n",
       "      <td>R</td>\n",
       "      <td>4500.0</td>\n",
       "      <td>2004.0</td>\n",
       "      <td>133.0</td>\n",
       "      <td>6.9</td>\n",
       "      <td>2.35</td>\n",
       "      <td>171</td>\n",
       "    </tr>\n",
       "    <tr>\n",
       "      <th>5027</th>\n",
       "      <td>Color</td>\n",
       "      <td>Jafar Panahi</td>\n",
       "      <td>64.0</td>\n",
       "      <td>90.0</td>\n",
       "      <td>397.0</td>\n",
       "      <td>0.0</td>\n",
       "      <td>Nargess Mamizadeh</td>\n",
       "      <td>5.0</td>\n",
       "      <td>673780.0</td>\n",
       "      <td>Drama</td>\n",
       "      <td>...</td>\n",
       "      <td>26.0</td>\n",
       "      <td>Persian</td>\n",
       "      <td>Iran</td>\n",
       "      <td>Not Rated</td>\n",
       "      <td>10000.0</td>\n",
       "      <td>2000.0</td>\n",
       "      <td>0.0</td>\n",
       "      <td>7.5</td>\n",
       "      <td>1.85</td>\n",
       "      <td>697</td>\n",
       "    </tr>\n",
       "    <tr>\n",
       "      <th>5028</th>\n",
       "      <td>Black and White</td>\n",
       "      <td>Ivan Kavanagh</td>\n",
       "      <td>12.0</td>\n",
       "      <td>83.0</td>\n",
       "      <td>18.0</td>\n",
       "      <td>0.0</td>\n",
       "      <td>Michael Parle</td>\n",
       "      <td>10.0</td>\n",
       "      <td>NaN</td>\n",
       "      <td>Horror</td>\n",
       "      <td>...</td>\n",
       "      <td>1.0</td>\n",
       "      <td>English</td>\n",
       "      <td>Ireland</td>\n",
       "      <td>NaN</td>\n",
       "      <td>10000.0</td>\n",
       "      <td>2007.0</td>\n",
       "      <td>5.0</td>\n",
       "      <td>6.7</td>\n",
       "      <td>1.33</td>\n",
       "      <td>105</td>\n",
       "    </tr>\n",
       "    <tr>\n",
       "      <th>5029</th>\n",
       "      <td>Color</td>\n",
       "      <td>Kiyoshi Kurosawa</td>\n",
       "      <td>78.0</td>\n",
       "      <td>111.0</td>\n",
       "      <td>62.0</td>\n",
       "      <td>6.0</td>\n",
       "      <td>Anna Nakagawa</td>\n",
       "      <td>89.0</td>\n",
       "      <td>94596.0</td>\n",
       "      <td>Crime|Horror|Mystery|Thriller</td>\n",
       "      <td>...</td>\n",
       "      <td>50.0</td>\n",
       "      <td>Japanese</td>\n",
       "      <td>Japan</td>\n",
       "      <td>NaN</td>\n",
       "      <td>1000000.0</td>\n",
       "      <td>1997.0</td>\n",
       "      <td>13.0</td>\n",
       "      <td>7.4</td>\n",
       "      <td>1.85</td>\n",
       "      <td>817</td>\n",
       "    </tr>\n",
       "    <tr>\n",
       "      <th>5030</th>\n",
       "      <td>Color</td>\n",
       "      <td>Tadeo Garcia</td>\n",
       "      <td>NaN</td>\n",
       "      <td>84.0</td>\n",
       "      <td>5.0</td>\n",
       "      <td>12.0</td>\n",
       "      <td>Michael Cortez</td>\n",
       "      <td>21.0</td>\n",
       "      <td>NaN</td>\n",
       "      <td>Drama</td>\n",
       "      <td>...</td>\n",
       "      <td>3.0</td>\n",
       "      <td>English</td>\n",
       "      <td>USA</td>\n",
       "      <td>NaN</td>\n",
       "      <td>NaN</td>\n",
       "      <td>2004.0</td>\n",
       "      <td>20.0</td>\n",
       "      <td>6.1</td>\n",
       "      <td>NaN</td>\n",
       "      <td>22</td>\n",
       "    </tr>\n",
       "    <tr>\n",
       "      <th>5031</th>\n",
       "      <td>Color</td>\n",
       "      <td>Thomas L. Phillips</td>\n",
       "      <td>13.0</td>\n",
       "      <td>82.0</td>\n",
       "      <td>120.0</td>\n",
       "      <td>84.0</td>\n",
       "      <td>Joe Coffey</td>\n",
       "      <td>785.0</td>\n",
       "      <td>NaN</td>\n",
       "      <td>Comedy|Horror|Thriller</td>\n",
       "      <td>...</td>\n",
       "      <td>8.0</td>\n",
       "      <td>English</td>\n",
       "      <td>USA</td>\n",
       "      <td>NaN</td>\n",
       "      <td>200000.0</td>\n",
       "      <td>2012.0</td>\n",
       "      <td>98.0</td>\n",
       "      <td>5.4</td>\n",
       "      <td>16.00</td>\n",
       "      <td>424</td>\n",
       "    </tr>\n",
       "    <tr>\n",
       "      <th>5032</th>\n",
       "      <td>Color</td>\n",
       "      <td>Ash Baron-Cohen</td>\n",
       "      <td>10.0</td>\n",
       "      <td>98.0</td>\n",
       "      <td>3.0</td>\n",
       "      <td>152.0</td>\n",
       "      <td>Stanley B. Herman</td>\n",
       "      <td>789.0</td>\n",
       "      <td>NaN</td>\n",
       "      <td>Crime|Drama</td>\n",
       "      <td>...</td>\n",
       "      <td>14.0</td>\n",
       "      <td>English</td>\n",
       "      <td>USA</td>\n",
       "      <td>NaN</td>\n",
       "      <td>NaN</td>\n",
       "      <td>1995.0</td>\n",
       "      <td>194.0</td>\n",
       "      <td>6.4</td>\n",
       "      <td>NaN</td>\n",
       "      <td>20</td>\n",
       "    </tr>\n",
       "    <tr>\n",
       "      <th>5033</th>\n",
       "      <td>Color</td>\n",
       "      <td>Shane Carruth</td>\n",
       "      <td>143.0</td>\n",
       "      <td>77.0</td>\n",
       "      <td>291.0</td>\n",
       "      <td>8.0</td>\n",
       "      <td>David Sullivan</td>\n",
       "      <td>291.0</td>\n",
       "      <td>424760.0</td>\n",
       "      <td>Drama|Sci-Fi|Thriller</td>\n",
       "      <td>...</td>\n",
       "      <td>371.0</td>\n",
       "      <td>English</td>\n",
       "      <td>USA</td>\n",
       "      <td>PG-13</td>\n",
       "      <td>7000.0</td>\n",
       "      <td>2004.0</td>\n",
       "      <td>45.0</td>\n",
       "      <td>7.0</td>\n",
       "      <td>1.85</td>\n",
       "      <td>19000</td>\n",
       "    </tr>\n",
       "    <tr>\n",
       "      <th>5034</th>\n",
       "      <td>Color</td>\n",
       "      <td>Neill Dela Llana</td>\n",
       "      <td>35.0</td>\n",
       "      <td>80.0</td>\n",
       "      <td>0.0</td>\n",
       "      <td>0.0</td>\n",
       "      <td>Edgar Tancangco</td>\n",
       "      <td>0.0</td>\n",
       "      <td>70071.0</td>\n",
       "      <td>Thriller</td>\n",
       "      <td>...</td>\n",
       "      <td>35.0</td>\n",
       "      <td>English</td>\n",
       "      <td>Philippines</td>\n",
       "      <td>Not Rated</td>\n",
       "      <td>7000.0</td>\n",
       "      <td>2005.0</td>\n",
       "      <td>0.0</td>\n",
       "      <td>6.3</td>\n",
       "      <td>NaN</td>\n",
       "      <td>74</td>\n",
       "    </tr>\n",
       "    <tr>\n",
       "      <th>5035</th>\n",
       "      <td>Color</td>\n",
       "      <td>Robert Rodriguez</td>\n",
       "      <td>56.0</td>\n",
       "      <td>81.0</td>\n",
       "      <td>0.0</td>\n",
       "      <td>6.0</td>\n",
       "      <td>Peter Marquardt</td>\n",
       "      <td>121.0</td>\n",
       "      <td>2040920.0</td>\n",
       "      <td>Action|Crime|Drama|Romance|Thriller</td>\n",
       "      <td>...</td>\n",
       "      <td>130.0</td>\n",
       "      <td>Spanish</td>\n",
       "      <td>USA</td>\n",
       "      <td>R</td>\n",
       "      <td>7000.0</td>\n",
       "      <td>1992.0</td>\n",
       "      <td>20.0</td>\n",
       "      <td>6.9</td>\n",
       "      <td>1.37</td>\n",
       "      <td>0</td>\n",
       "    </tr>\n",
       "    <tr>\n",
       "      <th>5036</th>\n",
       "      <td>Color</td>\n",
       "      <td>Anthony Vallone</td>\n",
       "      <td>NaN</td>\n",
       "      <td>84.0</td>\n",
       "      <td>2.0</td>\n",
       "      <td>2.0</td>\n",
       "      <td>John Considine</td>\n",
       "      <td>45.0</td>\n",
       "      <td>NaN</td>\n",
       "      <td>Crime|Drama</td>\n",
       "      <td>...</td>\n",
       "      <td>1.0</td>\n",
       "      <td>English</td>\n",
       "      <td>USA</td>\n",
       "      <td>PG-13</td>\n",
       "      <td>3250.0</td>\n",
       "      <td>2005.0</td>\n",
       "      <td>44.0</td>\n",
       "      <td>7.8</td>\n",
       "      <td>NaN</td>\n",
       "      <td>4</td>\n",
       "    </tr>\n",
       "    <tr>\n",
       "      <th>5037</th>\n",
       "      <td>Color</td>\n",
       "      <td>Edward Burns</td>\n",
       "      <td>14.0</td>\n",
       "      <td>95.0</td>\n",
       "      <td>0.0</td>\n",
       "      <td>133.0</td>\n",
       "      <td>Caitlin FitzGerald</td>\n",
       "      <td>296.0</td>\n",
       "      <td>4584.0</td>\n",
       "      <td>Comedy|Drama</td>\n",
       "      <td>...</td>\n",
       "      <td>14.0</td>\n",
       "      <td>English</td>\n",
       "      <td>USA</td>\n",
       "      <td>Not Rated</td>\n",
       "      <td>9000.0</td>\n",
       "      <td>2011.0</td>\n",
       "      <td>205.0</td>\n",
       "      <td>6.4</td>\n",
       "      <td>NaN</td>\n",
       "      <td>413</td>\n",
       "    </tr>\n",
       "    <tr>\n",
       "      <th>5038</th>\n",
       "      <td>Color</td>\n",
       "      <td>Scott Smith</td>\n",
       "      <td>1.0</td>\n",
       "      <td>87.0</td>\n",
       "      <td>2.0</td>\n",
       "      <td>318.0</td>\n",
       "      <td>Daphne Zuniga</td>\n",
       "      <td>637.0</td>\n",
       "      <td>NaN</td>\n",
       "      <td>Comedy|Drama</td>\n",
       "      <td>...</td>\n",
       "      <td>6.0</td>\n",
       "      <td>English</td>\n",
       "      <td>Canada</td>\n",
       "      <td>NaN</td>\n",
       "      <td>NaN</td>\n",
       "      <td>2013.0</td>\n",
       "      <td>470.0</td>\n",
       "      <td>7.7</td>\n",
       "      <td>NaN</td>\n",
       "      <td>84</td>\n",
       "    </tr>\n",
       "    <tr>\n",
       "      <th>5040</th>\n",
       "      <td>Color</td>\n",
       "      <td>Benjamin Roberds</td>\n",
       "      <td>13.0</td>\n",
       "      <td>76.0</td>\n",
       "      <td>0.0</td>\n",
       "      <td>0.0</td>\n",
       "      <td>Maxwell Moody</td>\n",
       "      <td>0.0</td>\n",
       "      <td>NaN</td>\n",
       "      <td>Drama|Horror|Thriller</td>\n",
       "      <td>...</td>\n",
       "      <td>3.0</td>\n",
       "      <td>English</td>\n",
       "      <td>USA</td>\n",
       "      <td>NaN</td>\n",
       "      <td>1400.0</td>\n",
       "      <td>2013.0</td>\n",
       "      <td>0.0</td>\n",
       "      <td>6.3</td>\n",
       "      <td>NaN</td>\n",
       "      <td>16</td>\n",
       "    </tr>\n",
       "    <tr>\n",
       "      <th>5041</th>\n",
       "      <td>Color</td>\n",
       "      <td>Daniel Hsia</td>\n",
       "      <td>14.0</td>\n",
       "      <td>100.0</td>\n",
       "      <td>0.0</td>\n",
       "      <td>489.0</td>\n",
       "      <td>Daniel Henney</td>\n",
       "      <td>946.0</td>\n",
       "      <td>10443.0</td>\n",
       "      <td>Comedy|Drama|Romance</td>\n",
       "      <td>...</td>\n",
       "      <td>9.0</td>\n",
       "      <td>English</td>\n",
       "      <td>USA</td>\n",
       "      <td>PG-13</td>\n",
       "      <td>NaN</td>\n",
       "      <td>2012.0</td>\n",
       "      <td>719.0</td>\n",
       "      <td>6.3</td>\n",
       "      <td>2.35</td>\n",
       "      <td>660</td>\n",
       "    </tr>\n",
       "    <tr>\n",
       "      <th>5042</th>\n",
       "      <td>Color</td>\n",
       "      <td>Jon Gunn</td>\n",
       "      <td>43.0</td>\n",
       "      <td>90.0</td>\n",
       "      <td>16.0</td>\n",
       "      <td>16.0</td>\n",
       "      <td>Brian Herzlinger</td>\n",
       "      <td>86.0</td>\n",
       "      <td>85222.0</td>\n",
       "      <td>Documentary</td>\n",
       "      <td>...</td>\n",
       "      <td>84.0</td>\n",
       "      <td>English</td>\n",
       "      <td>USA</td>\n",
       "      <td>PG</td>\n",
       "      <td>1100.0</td>\n",
       "      <td>2004.0</td>\n",
       "      <td>23.0</td>\n",
       "      <td>6.6</td>\n",
       "      <td>1.85</td>\n",
       "      <td>456</td>\n",
       "    </tr>\n",
       "  </tbody>\n",
       "</table>\n",
       "<p>4908 rows × 28 columns</p>\n",
       "</div>"
      ],
      "text/plain": [
       "                 color       director_name  num_critic_for_reviews  duration  \\\n",
       "0                Color       James Cameron                   723.0     178.0   \n",
       "1                Color      Gore Verbinski                   302.0     169.0   \n",
       "2                Color          Sam Mendes                   602.0     148.0   \n",
       "3                Color   Christopher Nolan                   813.0     164.0   \n",
       "5                Color      Andrew Stanton                   462.0     132.0   \n",
       "6                Color           Sam Raimi                   392.0     156.0   \n",
       "7                Color        Nathan Greno                   324.0     100.0   \n",
       "8                Color         Joss Whedon                   635.0     141.0   \n",
       "9                Color         David Yates                   375.0     153.0   \n",
       "10               Color         Zack Snyder                   673.0     183.0   \n",
       "11               Color        Bryan Singer                   434.0     169.0   \n",
       "12               Color        Marc Forster                   403.0     106.0   \n",
       "13               Color      Gore Verbinski                   313.0     151.0   \n",
       "14               Color      Gore Verbinski                   450.0     150.0   \n",
       "15               Color         Zack Snyder                   733.0     143.0   \n",
       "16               Color      Andrew Adamson                   258.0     150.0   \n",
       "17               Color         Joss Whedon                   703.0     173.0   \n",
       "18               Color        Rob Marshall                   448.0     136.0   \n",
       "19               Color    Barry Sonnenfeld                   451.0     106.0   \n",
       "20               Color       Peter Jackson                   422.0     164.0   \n",
       "21               Color           Marc Webb                   599.0     153.0   \n",
       "22               Color        Ridley Scott                   343.0     156.0   \n",
       "23               Color       Peter Jackson                   509.0     186.0   \n",
       "24               Color         Chris Weitz                   251.0     113.0   \n",
       "25               Color       Peter Jackson                   446.0     201.0   \n",
       "26               Color       James Cameron                   315.0     194.0   \n",
       "27               Color       Anthony Russo                   516.0     147.0   \n",
       "28               Color          Peter Berg                   377.0     131.0   \n",
       "29               Color     Colin Trevorrow                   644.0     124.0   \n",
       "30               Color          Sam Mendes                   750.0     143.0   \n",
       "...                ...                 ...                     ...       ...   \n",
       "5012             Color          David Ayer                   233.0     109.0   \n",
       "5013             Color          Eric Eason                    28.0      79.0   \n",
       "5014             Color            Uwe Boll                    58.0      80.0   \n",
       "5015   Black and White   Richard Linklater                    61.0     100.0   \n",
       "5016             Color     Joseph Mazzella                     NaN      90.0   \n",
       "5017             Color        Travis Legge                     1.0      90.0   \n",
       "5018             Color       Alex Kendrick                     5.0     120.0   \n",
       "5019             Color       Marcus Nispel                    43.0      91.0   \n",
       "5020               NaN     Brandon Landers                     NaN     143.0   \n",
       "5021             Color         Jay Duplass                    51.0      85.0   \n",
       "5022   Black and White          Jim Chuchu                     6.0      60.0   \n",
       "5023             Color          Daryl Wein                    22.0      88.0   \n",
       "5024             Color         Jason Trost                    42.0      78.0   \n",
       "5025             Color         John Waters                    73.0     108.0   \n",
       "5026             Color     Olivier Assayas                    81.0     110.0   \n",
       "5027             Color        Jafar Panahi                    64.0      90.0   \n",
       "5028   Black and White       Ivan Kavanagh                    12.0      83.0   \n",
       "5029             Color    Kiyoshi Kurosawa                    78.0     111.0   \n",
       "5030             Color        Tadeo Garcia                     NaN      84.0   \n",
       "5031             Color  Thomas L. Phillips                    13.0      82.0   \n",
       "5032             Color     Ash Baron-Cohen                    10.0      98.0   \n",
       "5033             Color       Shane Carruth                   143.0      77.0   \n",
       "5034             Color    Neill Dela Llana                    35.0      80.0   \n",
       "5035             Color    Robert Rodriguez                    56.0      81.0   \n",
       "5036             Color     Anthony Vallone                     NaN      84.0   \n",
       "5037             Color        Edward Burns                    14.0      95.0   \n",
       "5038             Color         Scott Smith                     1.0      87.0   \n",
       "5040             Color    Benjamin Roberds                    13.0      76.0   \n",
       "5041             Color         Daniel Hsia                    14.0     100.0   \n",
       "5042             Color            Jon Gunn                    43.0      90.0   \n",
       "\n",
       "      director_facebook_likes  actor_3_facebook_likes          actor_2_name  \\\n",
       "0                         0.0                   855.0      Joel David Moore   \n",
       "1                       563.0                  1000.0         Orlando Bloom   \n",
       "2                         0.0                   161.0          Rory Kinnear   \n",
       "3                     22000.0                 23000.0        Christian Bale   \n",
       "5                       475.0                   530.0       Samantha Morton   \n",
       "6                         0.0                  4000.0          James Franco   \n",
       "7                        15.0                   284.0          Donna Murphy   \n",
       "8                         0.0                 19000.0     Robert Downey Jr.   \n",
       "9                       282.0                 10000.0      Daniel Radcliffe   \n",
       "10                        0.0                  2000.0          Lauren Cohan   \n",
       "11                        0.0                   903.0         Marlon Brando   \n",
       "12                      395.0                   393.0       Mathieu Amalric   \n",
       "13                      563.0                  1000.0         Orlando Bloom   \n",
       "14                      563.0                  1000.0           Ruth Wilson   \n",
       "15                        0.0                   748.0    Christopher Meloni   \n",
       "16                       80.0                   201.0  Pierfrancesco Favino   \n",
       "17                        0.0                 19000.0     Robert Downey Jr.   \n",
       "18                      252.0                  1000.0           Sam Claflin   \n",
       "19                      188.0                   718.0     Michael Stuhlbarg   \n",
       "20                        0.0                   773.0            Adam Brown   \n",
       "21                      464.0                   963.0       Andrew Garfield   \n",
       "22                        0.0                   738.0          William Hurt   \n",
       "23                        0.0                   773.0            Adam Brown   \n",
       "24                      129.0                  1000.0             Eva Green   \n",
       "25                        0.0                    84.0    Thomas Kretschmann   \n",
       "26                        0.0                   794.0          Kate Winslet   \n",
       "27                       94.0                 11000.0    Scarlett Johansson   \n",
       "28                      532.0                   627.0   Alexander Skarsgård   \n",
       "29                      365.0                  1000.0            Judy Greer   \n",
       "30                        0.0                   393.0         Helen McCrory   \n",
       "...                       ...                     ...                   ...   \n",
       "5012                    453.0                   120.0        Martin Donovan   \n",
       "5013                      3.0                    42.0        Panchito Gómez   \n",
       "5014                    892.0                   492.0    Katharine Isabelle   \n",
       "5015                      0.0                     0.0     Richard Linklater   \n",
       "5016                      0.0                     9.0          Mikaal Bates   \n",
       "5017                    138.0                   138.0         Suzi Lorraine   \n",
       "5018                    589.0                     4.0           Lisa Arnold   \n",
       "5019                    158.0                   265.0       Brittany Curran   \n",
       "5020                      8.0                     8.0       Alana Kaniewski   \n",
       "5021                    157.0                    10.0         Katie Aselton   \n",
       "5022                      0.0                     4.0         Olwenya Maina   \n",
       "5023                     38.0                   211.0         Heather Burns   \n",
       "5024                     91.0                    86.0           Jason Trost   \n",
       "5025                      0.0                   105.0            Mink Stole   \n",
       "5026                    107.0                    45.0        Béatrice Dalle   \n",
       "5027                    397.0                     0.0     Nargess Mamizadeh   \n",
       "5028                     18.0                     0.0         Michael Parle   \n",
       "5029                     62.0                     6.0         Anna Nakagawa   \n",
       "5030                      5.0                    12.0        Michael Cortez   \n",
       "5031                    120.0                    84.0            Joe Coffey   \n",
       "5032                      3.0                   152.0     Stanley B. Herman   \n",
       "5033                    291.0                     8.0        David Sullivan   \n",
       "5034                      0.0                     0.0       Edgar Tancangco   \n",
       "5035                      0.0                     6.0       Peter Marquardt   \n",
       "5036                      2.0                     2.0        John Considine   \n",
       "5037                      0.0                   133.0    Caitlin FitzGerald   \n",
       "5038                      2.0                   318.0         Daphne Zuniga   \n",
       "5040                      0.0                     0.0         Maxwell Moody   \n",
       "5041                      0.0                   489.0         Daniel Henney   \n",
       "5042                     16.0                    16.0      Brian Herzlinger   \n",
       "\n",
       "      actor_1_facebook_likes        gross  \\\n",
       "0                     1000.0  760505847.0   \n",
       "1                    40000.0  309404152.0   \n",
       "2                    11000.0  200074175.0   \n",
       "3                    27000.0  448130642.0   \n",
       "5                      640.0   73058679.0   \n",
       "6                    24000.0  336530303.0   \n",
       "7                      799.0  200807262.0   \n",
       "8                    26000.0  458991599.0   \n",
       "9                    25000.0  301956980.0   \n",
       "10                   15000.0  330249062.0   \n",
       "11                   18000.0  200069408.0   \n",
       "12                     451.0  168368427.0   \n",
       "13                   40000.0  423032628.0   \n",
       "14                   40000.0   89289910.0   \n",
       "15                   15000.0  291021565.0   \n",
       "16                   22000.0  141614023.0   \n",
       "17                   26000.0  623279547.0   \n",
       "18                   40000.0  241063875.0   \n",
       "19                   10000.0  179020854.0   \n",
       "20                    5000.0  255108370.0   \n",
       "21                   15000.0  262030663.0   \n",
       "22                     891.0  105219735.0   \n",
       "23                    5000.0  258355354.0   \n",
       "24                   16000.0   70083519.0   \n",
       "25                    6000.0  218051260.0   \n",
       "26                   29000.0  658672302.0   \n",
       "27                   21000.0  407197282.0   \n",
       "28                   14000.0   65173160.0   \n",
       "29                    3000.0  652177271.0   \n",
       "30                     883.0  304360277.0   \n",
       "...                      ...          ...   \n",
       "5012                  1000.0   10499968.0   \n",
       "5013                    93.0          NaN   \n",
       "5014                   986.0          NaN   \n",
       "5015                     5.0    1227508.0   \n",
       "5016                   313.0          NaN   \n",
       "5017                   370.0          NaN   \n",
       "5018                    51.0          NaN   \n",
       "5019                   630.0          NaN   \n",
       "5020                   720.0          NaN   \n",
       "5021                   830.0     192467.0   \n",
       "5022                   147.0          NaN   \n",
       "5023                   331.0      76382.0   \n",
       "5024                   407.0          NaN   \n",
       "5025                   462.0     180483.0   \n",
       "5026                   576.0     136007.0   \n",
       "5027                     5.0     673780.0   \n",
       "5028                    10.0          NaN   \n",
       "5029                    89.0      94596.0   \n",
       "5030                    21.0          NaN   \n",
       "5031                   785.0          NaN   \n",
       "5032                   789.0          NaN   \n",
       "5033                   291.0     424760.0   \n",
       "5034                     0.0      70071.0   \n",
       "5035                   121.0    2040920.0   \n",
       "5036                    45.0          NaN   \n",
       "5037                   296.0       4584.0   \n",
       "5038                   637.0          NaN   \n",
       "5040                     0.0          NaN   \n",
       "5041                   946.0      10443.0   \n",
       "5042                    86.0      85222.0   \n",
       "\n",
       "                                                 genres         ...           \\\n",
       "0                       Action|Adventure|Fantasy|Sci-Fi         ...            \n",
       "1                              Action|Adventure|Fantasy         ...            \n",
       "2                             Action|Adventure|Thriller         ...            \n",
       "3                                       Action|Thriller         ...            \n",
       "5                               Action|Adventure|Sci-Fi         ...            \n",
       "6                              Action|Adventure|Romance         ...            \n",
       "7     Adventure|Animation|Comedy|Family|Fantasy|Musi...         ...            \n",
       "8                               Action|Adventure|Sci-Fi         ...            \n",
       "9                      Adventure|Family|Fantasy|Mystery         ...            \n",
       "10                              Action|Adventure|Sci-Fi         ...            \n",
       "11                              Action|Adventure|Sci-Fi         ...            \n",
       "12                                     Action|Adventure         ...            \n",
       "13                             Action|Adventure|Fantasy         ...            \n",
       "14                             Action|Adventure|Western         ...            \n",
       "15                      Action|Adventure|Fantasy|Sci-Fi         ...            \n",
       "16                      Action|Adventure|Family|Fantasy         ...            \n",
       "17                              Action|Adventure|Sci-Fi         ...            \n",
       "18                             Action|Adventure|Fantasy         ...            \n",
       "19        Action|Adventure|Comedy|Family|Fantasy|Sci-Fi         ...            \n",
       "20                                    Adventure|Fantasy         ...            \n",
       "21                             Action|Adventure|Fantasy         ...            \n",
       "22                       Action|Adventure|Drama|History         ...            \n",
       "23                                    Adventure|Fantasy         ...            \n",
       "24                             Adventure|Family|Fantasy         ...            \n",
       "25                       Action|Adventure|Drama|Romance         ...            \n",
       "26                                        Drama|Romance         ...            \n",
       "27                              Action|Adventure|Sci-Fi         ...            \n",
       "28                     Action|Adventure|Sci-Fi|Thriller         ...            \n",
       "29                     Action|Adventure|Sci-Fi|Thriller         ...            \n",
       "30                            Action|Adventure|Thriller         ...            \n",
       "...                                                 ...         ...            \n",
       "5012                        Action|Crime|Drama|Thriller         ...            \n",
       "5013                                       Drama|Family         ...            \n",
       "5014                              Action|Crime|Thriller         ...            \n",
       "5015                                       Comedy|Drama         ...            \n",
       "5016                               Crime|Drama|Thriller         ...            \n",
       "5017                                     Comedy|Romance         ...            \n",
       "5018                                              Drama         ...            \n",
       "5019                            Horror|Mystery|Thriller         ...            \n",
       "5020                              Drama|Horror|Thriller         ...            \n",
       "5021                               Comedy|Drama|Romance         ...            \n",
       "5022                                              Drama         ...            \n",
       "5023                                            Romance         ...            \n",
       "5024                                    Sci-Fi|Thriller         ...            \n",
       "5025                                Comedy|Crime|Horror         ...            \n",
       "5026                                Drama|Music|Romance         ...            \n",
       "5027                                              Drama         ...            \n",
       "5028                                             Horror         ...            \n",
       "5029                      Crime|Horror|Mystery|Thriller         ...            \n",
       "5030                                              Drama         ...            \n",
       "5031                             Comedy|Horror|Thriller         ...            \n",
       "5032                                        Crime|Drama         ...            \n",
       "5033                              Drama|Sci-Fi|Thriller         ...            \n",
       "5034                                           Thriller         ...            \n",
       "5035                Action|Crime|Drama|Romance|Thriller         ...            \n",
       "5036                                        Crime|Drama         ...            \n",
       "5037                                       Comedy|Drama         ...            \n",
       "5038                                       Comedy|Drama         ...            \n",
       "5040                              Drama|Horror|Thriller         ...            \n",
       "5041                               Comedy|Drama|Romance         ...            \n",
       "5042                                        Documentary         ...            \n",
       "\n",
       "     num_user_for_reviews  language      country  content_rating       budget  \\\n",
       "0                  3054.0   English          USA           PG-13  237000000.0   \n",
       "1                  1238.0   English          USA           PG-13  300000000.0   \n",
       "2                   994.0   English           UK           PG-13  245000000.0   \n",
       "3                  2701.0   English          USA           PG-13  250000000.0   \n",
       "5                   738.0   English          USA           PG-13  263700000.0   \n",
       "6                  1902.0   English          USA           PG-13  258000000.0   \n",
       "7                   387.0   English          USA              PG  260000000.0   \n",
       "8                  1117.0   English          USA           PG-13  250000000.0   \n",
       "9                   973.0   English           UK              PG  250000000.0   \n",
       "10                 3018.0   English          USA           PG-13  250000000.0   \n",
       "11                 2367.0   English          USA           PG-13  209000000.0   \n",
       "12                 1243.0   English           UK           PG-13  200000000.0   \n",
       "13                 1832.0   English          USA           PG-13  225000000.0   \n",
       "14                  711.0   English          USA           PG-13  215000000.0   \n",
       "15                 2536.0   English          USA           PG-13  225000000.0   \n",
       "16                  438.0   English          USA              PG  225000000.0   \n",
       "17                 1722.0   English          USA           PG-13  220000000.0   \n",
       "18                  484.0   English          USA           PG-13  250000000.0   \n",
       "19                  341.0   English          USA           PG-13  225000000.0   \n",
       "20                  802.0   English  New Zealand           PG-13  250000000.0   \n",
       "21                 1225.0   English          USA           PG-13  230000000.0   \n",
       "22                  546.0   English          USA           PG-13  200000000.0   \n",
       "23                  951.0   English          USA           PG-13  225000000.0   \n",
       "24                  666.0   English          USA           PG-13  180000000.0   \n",
       "25                 2618.0   English  New Zealand           PG-13  207000000.0   \n",
       "26                 2528.0   English          USA           PG-13  200000000.0   \n",
       "27                 1022.0   English          USA           PG-13  250000000.0   \n",
       "28                  751.0   English          USA           PG-13  209000000.0   \n",
       "29                 1290.0   English          USA           PG-13  150000000.0   \n",
       "30                 1498.0   English           UK           PG-13  200000000.0   \n",
       "...                   ...       ...          ...             ...          ...   \n",
       "5012                212.0   English          USA               R   35000000.0   \n",
       "5013                 21.0   English          USA             NaN      24000.0   \n",
       "5014                129.0   English       Canada               R          NaN   \n",
       "5015                 80.0   English          USA               R      23000.0   \n",
       "5016                  2.0   English          USA             NaN      25000.0   \n",
       "5017                  3.0   English          USA             NaN      22000.0   \n",
       "5018                 49.0   English          USA             NaN      20000.0   \n",
       "5019                 33.0   English          USA               R          NaN   \n",
       "5020                  8.0   English          USA             NaN      17350.0   \n",
       "5021                 71.0   English          USA               R      15000.0   \n",
       "5022                  1.0   Swahili        Kenya             NaN      15000.0   \n",
       "5023                  8.0   English          USA             NaN      15000.0   \n",
       "5024                 35.0   English          USA         Unrated      20000.0   \n",
       "5025                183.0   English          USA           NC-17      10000.0   \n",
       "5026                 39.0    French       France               R       4500.0   \n",
       "5027                 26.0   Persian         Iran       Not Rated      10000.0   \n",
       "5028                  1.0   English      Ireland             NaN      10000.0   \n",
       "5029                 50.0  Japanese        Japan             NaN    1000000.0   \n",
       "5030                  3.0   English          USA             NaN          NaN   \n",
       "5031                  8.0   English          USA             NaN     200000.0   \n",
       "5032                 14.0   English          USA             NaN          NaN   \n",
       "5033                371.0   English          USA           PG-13       7000.0   \n",
       "5034                 35.0   English  Philippines       Not Rated       7000.0   \n",
       "5035                130.0   Spanish          USA               R       7000.0   \n",
       "5036                  1.0   English          USA           PG-13       3250.0   \n",
       "5037                 14.0   English          USA       Not Rated       9000.0   \n",
       "5038                  6.0   English       Canada             NaN          NaN   \n",
       "5040                  3.0   English          USA             NaN       1400.0   \n",
       "5041                  9.0   English          USA           PG-13          NaN   \n",
       "5042                 84.0   English          USA              PG       1100.0   \n",
       "\n",
       "      title_year actor_2_facebook_likes imdb_score  aspect_ratio  \\\n",
       "0         2009.0                  936.0        7.9          1.78   \n",
       "1         2007.0                 5000.0        7.1          2.35   \n",
       "2         2015.0                  393.0        6.8          2.35   \n",
       "3         2012.0                23000.0        8.5          2.35   \n",
       "5         2012.0                  632.0        6.6          2.35   \n",
       "6         2007.0                11000.0        6.2          2.35   \n",
       "7         2010.0                  553.0        7.8          1.85   \n",
       "8         2015.0                21000.0        7.5          2.35   \n",
       "9         2009.0                11000.0        7.5          2.35   \n",
       "10        2016.0                 4000.0        6.9          2.35   \n",
       "11        2006.0                10000.0        6.1          2.35   \n",
       "12        2008.0                  412.0        6.7          2.35   \n",
       "13        2006.0                 5000.0        7.3          2.35   \n",
       "14        2013.0                 2000.0        6.5          2.35   \n",
       "15        2013.0                 3000.0        7.2          2.35   \n",
       "16        2008.0                  216.0        6.6          2.35   \n",
       "17        2012.0                21000.0        8.1          1.85   \n",
       "18        2011.0                11000.0        6.7          2.35   \n",
       "19        2012.0                  816.0        6.8          1.85   \n",
       "20        2014.0                  972.0        7.5          2.35   \n",
       "21        2012.0                10000.0        7.0          2.35   \n",
       "22        2010.0                  882.0        6.7          2.35   \n",
       "23        2013.0                  972.0        7.9          2.35   \n",
       "24        2007.0                 6000.0        6.1          2.35   \n",
       "25        2005.0                  919.0        7.2          2.35   \n",
       "26        1997.0                14000.0        7.7          2.35   \n",
       "27        2016.0                19000.0        8.2          2.35   \n",
       "28        2012.0                10000.0        5.9          2.35   \n",
       "29        2015.0                 2000.0        7.0          2.00   \n",
       "30        2012.0                  563.0        7.8          2.35   \n",
       "...          ...                    ...        ...           ...   \n",
       "5012      2014.0                  206.0        5.7          1.85   \n",
       "5013      2002.0                   46.0        7.0          1.78   \n",
       "5014      2009.0                  918.0        6.3          2.35   \n",
       "5015      1991.0                    0.0        7.1          1.37   \n",
       "5016      2015.0                   25.0        4.8           NaN   \n",
       "5017      2013.0                  184.0        3.3          1.78   \n",
       "5018      2003.0                   49.0        6.9          1.85   \n",
       "5019      2015.0                  512.0        4.6          1.85   \n",
       "5020      2011.0                   19.0        3.0           NaN   \n",
       "5021      2005.0                  224.0        6.6           NaN   \n",
       "5022      2014.0                   19.0        7.4           NaN   \n",
       "5023      2009.0                  212.0        6.2          2.35   \n",
       "5024      2011.0                   91.0        4.0          2.35   \n",
       "5025      1972.0                  143.0        6.1          1.37   \n",
       "5026      2004.0                  133.0        6.9          2.35   \n",
       "5027      2000.0                    0.0        7.5          1.85   \n",
       "5028      2007.0                    5.0        6.7          1.33   \n",
       "5029      1997.0                   13.0        7.4          1.85   \n",
       "5030      2004.0                   20.0        6.1           NaN   \n",
       "5031      2012.0                   98.0        5.4         16.00   \n",
       "5032      1995.0                  194.0        6.4           NaN   \n",
       "5033      2004.0                   45.0        7.0          1.85   \n",
       "5034      2005.0                    0.0        6.3           NaN   \n",
       "5035      1992.0                   20.0        6.9          1.37   \n",
       "5036      2005.0                   44.0        7.8           NaN   \n",
       "5037      2011.0                  205.0        6.4           NaN   \n",
       "5038      2013.0                  470.0        7.7           NaN   \n",
       "5040      2013.0                    0.0        6.3           NaN   \n",
       "5041      2012.0                  719.0        6.3          2.35   \n",
       "5042      2004.0                   23.0        6.6          1.85   \n",
       "\n",
       "     movie_facebook_likes  \n",
       "0                   33000  \n",
       "1                       0  \n",
       "2                   85000  \n",
       "3                  164000  \n",
       "5                   24000  \n",
       "6                       0  \n",
       "7                   29000  \n",
       "8                  118000  \n",
       "9                   10000  \n",
       "10                 197000  \n",
       "11                      0  \n",
       "12                      0  \n",
       "13                   5000  \n",
       "14                  48000  \n",
       "15                 118000  \n",
       "16                      0  \n",
       "17                 123000  \n",
       "18                  58000  \n",
       "19                  40000  \n",
       "20                  65000  \n",
       "21                  56000  \n",
       "22                  17000  \n",
       "23                  83000  \n",
       "24                      0  \n",
       "25                      0  \n",
       "26                  26000  \n",
       "27                  72000  \n",
       "28                  44000  \n",
       "29                 150000  \n",
       "30                  80000  \n",
       "...                   ...  \n",
       "5012                10000  \n",
       "5013                   61  \n",
       "5014                    0  \n",
       "5015                 2000  \n",
       "5016                   33  \n",
       "5017                  200  \n",
       "5018                  725  \n",
       "5019                    0  \n",
       "5020                   33  \n",
       "5021                  297  \n",
       "5022                   45  \n",
       "5023                  324  \n",
       "5024                  835  \n",
       "5025                    0  \n",
       "5026                  171  \n",
       "5027                  697  \n",
       "5028                  105  \n",
       "5029                  817  \n",
       "5030                   22  \n",
       "5031                  424  \n",
       "5032                   20  \n",
       "5033                19000  \n",
       "5034                   74  \n",
       "5035                    0  \n",
       "5036                    4  \n",
       "5037                  413  \n",
       "5038                   84  \n",
       "5040                   16  \n",
       "5041                  660  \n",
       "5042                  456  \n",
       "\n",
       "[4908 rows x 28 columns]"
      ]
     },
     "execution_count": 37,
     "metadata": {},
     "output_type": "execute_result"
    }
   ],
   "source": [
    "(df_copy)\n",
    "        "
   ]
  },
  {
   "cell_type": "code",
   "execution_count": 38,
   "metadata": {
    "collapsed": false
   },
   "outputs": [
    {
     "data": {
      "text/plain": [
       "<matplotlib.collections.PathCollection at 0x2c8c0781940>"
      ]
     },
     "execution_count": 38,
     "metadata": {},
     "output_type": "execute_result"
    },
    {
     "data": {
      "image/png": "[encoded data removed]",
      "text/plain": [
       "<matplotlib.figure.Figure at 0x2c8c0707828>"
      ]
     },
     "metadata": {},
     "output_type": "display_data"
    }
   ],
   "source": [
    "plt.scatter(df_copy['duration'], df_copy['imdb_score'] )"
   ]
  },
  {
   "cell_type": "code",
   "execution_count": 39,
   "metadata": {
    "collapsed": false
   },
   "outputs": [
    {
     "data": {
      "text/plain": [
       "<matplotlib.collections.PathCollection at 0x2c8c0814978>"
      ]
     },
     "execution_count": 39,
     "metadata": {},
     "output_type": "execute_result"
    },
    {
     "data": {
      "image/png": "[encoded data removed]",
      "text/plain": [
       "<matplotlib.figure.Figure at 0x2c8c07cd4e0>"
      ]
     },
     "metadata": {},
     "output_type": "display_data"
    }
   ],
   "source": [
    "plt.scatter(df_copy['director_facebook_likes'], df_copy['imdb_score'] )"
   ]
  },
  {
   "cell_type": "code",
   "execution_count": 40,
   "metadata": {
    "collapsed": false,
    "scrolled": true
   },
   "outputs": [
    {
     "data": {
      "text/plain": [
       "<matplotlib.axes._subplots.AxesSubplot at 0x2c8c0825470>"
      ]
     },
     "execution_count": 40,
     "metadata": {},
     "output_type": "execute_result"
    },
    {
     "data": {
      "image/png": "[encoded data removed]",
      "text/plain": [
       "<matplotlib.figure.Figure at 0x2c8bf3a06a0>"
      ]
     },
     "metadata": {},
     "output_type": "display_data"
    }
   ],
   "source": [
    "df['director_facebook_likes'].plot(kind='hist', title='HISTOGRAM OF director facebook likes')"
   ]
  },
  {
   "cell_type": "code",
   "execution_count": 41,
   "metadata": {
    "collapsed": false
   },
   "outputs": [
    {
     "data": {
      "text/plain": [
       "<matplotlib.collections.PathCollection at 0x2c8c08f99b0>"
      ]
     },
     "execution_count": 41,
     "metadata": {},
     "output_type": "execute_result"
    },
    {
     "data": {
      "image/png": "[encoded data removed]",
      "text/plain": [
       "<matplotlib.figure.Figure at 0x2c8c09569e8>"
      ]
     },
     "metadata": {},
     "output_type": "display_data"
    }
   ],
   "source": [
    "plt.scatter(df_copy['actor_1_facebook_likes'], df_copy['imdb_score'] )"
   ]
  },
  {
   "cell_type": "code",
   "execution_count": 42,
   "metadata": {
    "collapsed": false
   },
   "outputs": [
    {
     "data": {
      "text/plain": [
       "<matplotlib.collections.PathCollection at 0x2c8c09d4f98>"
      ]
     },
     "execution_count": 42,
     "metadata": {},
     "output_type": "execute_result"
    },
    {
     "data": {
      "image/png": "[encoded data removed]",
      "text/plain": [
       "<matplotlib.figure.Figure at 0x2c8c096f940>"
      ]
     },
     "metadata": {},
     "output_type": "display_data"
    }
   ],
   "source": [
    "plt.scatter(df_copy['actor_2_facebook_likes'], df_copy['imdb_score'] )\n"
   ]
  },
  {
   "cell_type": "code",
   "execution_count": 43,
   "metadata": {
    "collapsed": false
   },
   "outputs": [
    {
     "data": {
      "text/plain": [
       "<matplotlib.collections.PathCollection at 0x2c8c1f485f8>"
      ]
     },
     "execution_count": 43,
     "metadata": {},
     "output_type": "execute_result"
    },
    {
     "data": {
      "image/png": "[encoded data removed]",
      "text/plain": [
       "<matplotlib.figure.Figure at 0x2c8c1ed3780>"
      ]
     },
     "metadata": {},
     "output_type": "display_data"
    }
   ],
   "source": [
    "plt.scatter(df_copy['actor_3_facebook_likes'], df_copy['imdb_score'] )"
   ]
  },
  {
   "cell_type": "code",
   "execution_count": 44,
   "metadata": {
    "collapsed": false
   },
   "outputs": [
    {
     "data": {
      "text/plain": [
       "<matplotlib.collections.PathCollection at 0x2c8c1fdf550>"
      ]
     },
     "execution_count": 44,
     "metadata": {},
     "output_type": "execute_result"
    },
    {
     "data": {
      "image/png": "[encoded data removed]",
      "text/plain": [
       "<matplotlib.figure.Figure at 0x2c8c1f725c0>"
      ]
     },
     "metadata": {},
     "output_type": "display_data"
    }
   ],
   "source": [
    "plt.scatter(df_copy['budget'], df_copy['imdb_score'] )"
   ]
  },
  {
   "cell_type": "code",
   "execution_count": 45,
   "metadata": {
    "collapsed": false
   },
   "outputs": [
    {
     "data": {
      "text/plain": [
       "<matplotlib.collections.PathCollection at 0x2c8c20795f8>"
      ]
     },
     "execution_count": 45,
     "metadata": {},
     "output_type": "execute_result"
    },
    {
     "data": {
      "image/png": "[encoded data removed]",
      "text/plain": [
       "<matplotlib.figure.Figure at 0x2c8c201d0f0>"
      ]
     },
     "metadata": {},
     "output_type": "display_data"
    }
   ],
   "source": [
    "plt.scatter(df_copy['gross'], df_copy['imdb_score'] )"
   ]
  },
  {
   "cell_type": "code",
   "execution_count": 46,
   "metadata": {
    "collapsed": false
   },
   "outputs": [
    {
     "data": {
      "text/plain": [
       "<matplotlib.collections.PathCollection at 0x2c8c21149e8>"
      ]
     },
     "execution_count": 46,
     "metadata": {},
     "output_type": "execute_result"
    },
    {
     "data": {
      "image/png": "[encoded data removed]",
      "text/plain": [
       "<matplotlib.figure.Figure at 0x2c8c20ba160>"
      ]
     },
     "metadata": {},
     "output_type": "display_data"
    }
   ],
   "source": [
    "plt.scatter(df_copy['movie_facebook_likes'], df_copy['imdb_score'] )"
   ]
  },
  {
   "cell_type": "code",
   "execution_count": 47,
   "metadata": {
    "collapsed": false
   },
   "outputs": [],
   "source": [
    "# Adding actor_1_facebook_likes, actor_2_facebook_likes & actor_3_facebook_likes together and creating one new column \n",
    "#actor_facebook_likes_sum.\n",
    "\n",
    "actor = (df_copy.actor_1_facebook_likes + df_copy.actor_2_facebook_likes + df_copy.actor_3_facebook_likes)"
   ]
  },
  {
   "cell_type": "code",
   "execution_count": 48,
   "metadata": {
    "collapsed": false
   },
   "outputs": [],
   "source": [
    "df_copy['actor_facebook_likes_sum'] = actor"
   ]
  },
  {
   "cell_type": "code",
   "execution_count": 49,
   "metadata": {
    "collapsed": false
   },
   "outputs": [],
   "source": [
    "#Creating one new dataframe df_lm having only my input independent and dependent output variables.\n",
    "\n",
    "df_lm=df_copy[['director_facebook_likes','actor_facebook_likes_sum','duration','imdb_score']].copy()"
   ]
  },
  {
   "cell_type": "code",
   "execution_count": 50,
   "metadata": {
    "collapsed": false
   },
   "outputs": [
    {
     "data": {
      "text/html": [
       "<div>\n",
       "<style>\n",
       "    .dataframe thead tr:only-child th {\n",
       "        text-align: right;\n",
       "    }\n",
       "\n",
       "    .dataframe thead th {\n",
       "        text-align: left;\n",
       "    }\n",
       "\n",
       "    .dataframe tbody tr th {\n",
       "        vertical-align: top;\n",
       "    }\n",
       "</style>\n",
       "<table border=\"1\" class=\"dataframe\">\n",
       "  <thead>\n",
       "    <tr style=\"text-align: right;\">\n",
       "      <th></th>\n",
       "      <th>director_facebook_likes</th>\n",
       "      <th>actor_facebook_likes_sum</th>\n",
       "      <th>duration</th>\n",
       "      <th>imdb_score</th>\n",
       "    </tr>\n",
       "  </thead>\n",
       "  <tbody>\n",
       "    <tr>\n",
       "      <th>2765</th>\n",
       "      <td>0.0</td>\n",
       "      <td>1125.0</td>\n",
       "      <td>65.0</td>\n",
       "      <td>9.5</td>\n",
       "    </tr>\n",
       "    <tr>\n",
       "      <th>1937</th>\n",
       "      <td>0.0</td>\n",
       "      <td>12206.0</td>\n",
       "      <td>142.0</td>\n",
       "      <td>9.3</td>\n",
       "    </tr>\n",
       "    <tr>\n",
       "      <th>3466</th>\n",
       "      <td>0.0</td>\n",
       "      <td>27000.0</td>\n",
       "      <td>175.0</td>\n",
       "      <td>9.2</td>\n",
       "    </tr>\n",
       "    <tr>\n",
       "      <th>4409</th>\n",
       "      <td>134.0</td>\n",
       "      <td>260808.0</td>\n",
       "      <td>90.0</td>\n",
       "      <td>9.1</td>\n",
       "    </tr>\n",
       "    <tr>\n",
       "      <th>2837</th>\n",
       "      <td>0.0</td>\n",
       "      <td>39000.0</td>\n",
       "      <td>220.0</td>\n",
       "      <td>9.0</td>\n",
       "    </tr>\n",
       "  </tbody>\n",
       "</table>\n",
       "</div>"
      ],
      "text/plain": [
       "      director_facebook_likes  actor_facebook_likes_sum  duration  imdb_score\n",
       "2765                      0.0                    1125.0      65.0         9.5\n",
       "1937                      0.0                   12206.0     142.0         9.3\n",
       "3466                      0.0                   27000.0     175.0         9.2\n",
       "4409                    134.0                  260808.0      90.0         9.1\n",
       "2837                      0.0                   39000.0     220.0         9.0"
      ]
     },
     "execution_count": 50,
     "metadata": {},
     "output_type": "execute_result"
    }
   ],
   "source": [
    "df_lm.sort_values('imdb_score',ascending=False).head()"
   ]
  },
  {
   "cell_type": "code",
   "execution_count": 51,
   "metadata": {
    "collapsed": true
   },
   "outputs": [],
   "source": [
    "# split into a training and testing set. Selecting 30% for testing the Linear regression Model.\n",
    "\n",
    "y = df_lm['imdb_score']\n",
    "\n",
    "X = df_lm[['director_facebook_likes','actor_facebook_likes_sum','duration']]\n",
    "\n",
    "X_train, X_test, y_train, y_test = train_test_split(\n",
    "    X, y, test_size=0.30, random_state=110)\n"
   ]
  },
  {
   "cell_type": "code",
   "execution_count": 52,
   "metadata": {
    "collapsed": false
   },
   "outputs": [
    {
     "data": {
      "text/plain": [
       "{'X_test_rows': 1473,\n",
       " 'X_train_rows': 3435,\n",
       " 'y_test_rows': 1473,\n",
       " 'y_train_rows': 3435}"
      ]
     },
     "execution_count": 52,
     "metadata": {},
     "output_type": "execute_result"
    }
   ],
   "source": [
    "#Selecting 1473 records for model testing and 3435 records for training the model.\n",
    "\n",
    "{'X_train_rows': len(X_train), 'y_train_rows': len(y_train), 'X_test_rows': len(X_test), 'y_test_rows': len(y_test)}\n"
   ]
  },
  {
   "cell_type": "code",
   "execution_count": 53,
   "metadata": {
    "collapsed": false
   },
   "outputs": [
    {
     "name": "stdout",
     "output_type": "stream",
     "text": [
      "Training the Model time: 0.0015221859790723114\n",
      "Predicting time: 0.00046936699406560645\n",
      "Coefficients: \n",
      " [  4.57589045e-05   3.61228110e-06   1.51850886e-02]\n",
      "Mean squared error: 1.09\n",
      "Variance score: 0.14\n"
     ]
    }
   ],
   "source": [
    "#Developing Liear Regression Model to predict IMDB_Score.\n",
    "\n",
    "\n",
    "# Create linear regression object\n",
    "regr = linear_model.LinearRegression()\n",
    "\n",
    "# Start the Time to track the model training time\n",
    "start_time = timeit.default_timer()\n",
    "\n",
    "# Train the model using the training sets\n",
    "regr.fit(X_train, y_train)\n",
    "\n",
    "#Printing the Model Train Time\n",
    "print(\"Training the Model time: \" + str(timeit.default_timer() - start_time))\n",
    "\n",
    "start_time = timeit.default_timer()\n",
    "\n",
    "#Predicting the target variable from test.\n",
    "y_pred = regr.predict(X_test)\n",
    "\n",
    "#Printing the Model output predit Time based on test data.\n",
    "print(\"Predicting time: \" + str(timeit.default_timer() - start_time))\n",
    "\n",
    "# The coefficients\n",
    "print('Coefficients: \\n', regr.coef_)\n",
    "\n",
    "# The mean squared error\n",
    "print(\"Mean squared error: %.2f\"\n",
    "      % np.mean((y_pred - y_test) ** 2))\n",
    "\n",
    "# Explained variance score: 1 is perfect prediction\n",
    "print('Variance score: %.2f' % regr.score(X_test, y_test))\n",
    "\n",
    "\n",
    "\n"
   ]
  },
  {
   "cell_type": "code",
   "execution_count": 54,
   "metadata": {
    "collapsed": false
   },
   "outputs": [
    {
     "data": {
      "text/plain": [
       "([], <a list of 0 Text yticklabel objects>)"
      ]
     },
     "execution_count": 54,
     "metadata": {},
     "output_type": "execute_result"
    },
    {
     "data": {
      "image/png": "[encoded data removed]",
      "text/plain": [
       "<matplotlib.figure.Figure at 0x2c8c2126e10>"
      ]
     },
     "metadata": {},
     "output_type": "display_data"
    }
   ],
   "source": [
    "# Plot outputs\n",
    "plt.scatter(y_test, y_pred,  color='black')\n",
    "plt.xlabel('True IMDB Score')\n",
    "plt.ylabel('Predicted IMDB Score')\n",
    "#plt.plot(X_test, y_pred, color='blue',\n",
    "#         linewidth=3)\n",
    "\n",
    "plt.xticks(())\n",
    "plt.yticks(())"
   ]
  },
  {
   "cell_type": "markdown",
   "metadata": {},
   "source": [
    "# Evaluating the Model\n",
    "Lets evaluate our model performance by calculating the residual sum of squares and explained variance score(R^2).\n",
    "\n",
    "Calculate the Mean Absolute error, Mean squared error and the Root mean squared error."
   ]
  },
  {
   "cell_type": "code",
   "execution_count": 55,
   "metadata": {
    "collapsed": false
   },
   "outputs": [
    {
     "name": "stdout",
     "output_type": "stream",
     "text": [
      "MAE:  0.81\n",
      "MSE:  1.09\n",
      "RMSE: 1.05\n"
     ]
    }
   ],
   "source": [
    "print('MAE:  %.2f' %metrics.mean_absolute_error(y_test, y_pred))\n",
    "print('MSE:  %.2f' %metrics.mean_squared_error(y_test, y_pred))\n",
    "print('RMSE: %.2f' %np.sqrt(metrics.mean_squared_error(y_test, y_pred)))"
   ]
  },
  {
   "cell_type": "code",
   "execution_count": 56,
   "metadata": {
    "collapsed": false
   },
   "outputs": [
    {
     "name": "stdout",
     "output_type": "stream",
     "text": [
      "EVS: 0.14\n"
     ]
    }
   ],
   "source": [
    "print('EVS: %.2f' %metrics.explained_variance_score(y_test, y_pred))"
   ]
  },
  {
   "cell_type": "markdown",
   "metadata": {},
   "source": [
    "# Residuals"
   ]
  },
  {
   "cell_type": "code",
   "execution_count": 57,
   "metadata": {
    "collapsed": false
   },
   "outputs": [
    {
     "data": {
      "text/plain": [
       "<matplotlib.axes._subplots.AxesSubplot at 0x2c8c21854a8>"
      ]
     },
     "execution_count": 57,
     "metadata": {},
     "output_type": "execute_result"
    },
    {
     "data": {
      "image/png": "[encoded data removed]",
      "text/plain": [
       "<matplotlib.figure.Figure at 0x2c8c212a470>"
      ]
     },
     "metadata": {},
     "output_type": "display_data"
    }
   ],
   "source": [
    "sns.distplot(y_test-y_pred, bins=25)"
   ]
  },
  {
   "cell_type": "code",
   "execution_count": 58,
   "metadata": {
    "collapsed": false
   },
   "outputs": [
    {
     "data": {
      "text/plain": [
       "<seaborn.axisgrid.PairGrid at 0x2c8c22d59b0>"
      ]
     },
     "execution_count": 58,
     "metadata": {},
     "output_type": "execute_result"
    },
    {
     "data": {
      "image/png": "[encoded data removed]",
      "text/plain": [
       "<matplotlib.figure.Figure at 0x2c8c22d57b8>"
      ]
     },
     "metadata": {},
     "output_type": "display_data"
    }
   ],
   "source": [
    "sns.pairplot(df_lm)"
   ]
  },
  {
   "cell_type": "code",
   "execution_count": 59,
   "metadata": {
    "collapsed": false
   },
   "outputs": [
    {
     "data": {
      "text/plain": [
       "<seaborn.axisgrid.FacetGrid at 0x2c8c3131208>"
      ]
     },
     "execution_count": 59,
     "metadata": {},
     "output_type": "execute_result"
    },
    {
     "data": {
      "image/png": "[encoded data removed]",
      "text/plain": [
       "<matplotlib.figure.Figure at 0x2c8c3131630>"
      ]
     },
     "metadata": {},
     "output_type": "display_data"
    }
   ],
   "source": [
    "sns.lmplot(x='duration',y='imdb_score',data=df_lm)"
   ]
  },
  {
   "cell_type": "code",
   "execution_count": 60,
   "metadata": {
    "collapsed": false
   },
   "outputs": [
    {
     "data": {
      "text/plain": [
       "<seaborn.axisgrid.FacetGrid at 0x2c8c2ee6080>"
      ]
     },
     "execution_count": 60,
     "metadata": {},
     "output_type": "execute_result"
    },
    {
     "data": {
      "image/png": "[encoded data removed]",
      "text/plain": [
       "<matplotlib.figure.Figure at 0x2c8c2df3eb8>"
      ]
     },
     "metadata": {},
     "output_type": "display_data"
    }
   ],
   "source": [
    "sns.lmplot(x='actor_facebook_likes_sum',y='imdb_score',data=df_lm)"
   ]
  },
  {
   "cell_type": "code",
   "execution_count": 61,
   "metadata": {
    "collapsed": false
   },
   "outputs": [
    {
     "data": {
      "text/plain": [
       "<seaborn.axisgrid.FacetGrid at 0x2c8c419f4e0>"
      ]
     },
     "execution_count": 61,
     "metadata": {},
     "output_type": "execute_result"
    },
    {
     "data": {
      "image/png": "[encoded data removed]",
      "text/plain": [
       "<matplotlib.figure.Figure at 0x2c8c419f208>"
      ]
     },
     "metadata": {},
     "output_type": "display_data"
    }
   ],
   "source": [
    "sns.lmplot(x='director_facebook_likes',y='imdb_score',data=df_lm)"
   ]
  },
  {
   "cell_type": "code",
   "execution_count": 66,
   "metadata": {
    "collapsed": false
   },
   "outputs": [
    {
     "data": {
      "text/plain": [
       "<matplotlib.axes._subplots.AxesSubplot at 0x2c8c445ccc0>"
      ]
     },
     "execution_count": 66,
     "metadata": {},
     "output_type": "execute_result"
    },
    {
     "data": {
      "image/png": "[encoded data removed]",
      "text/plain": [
       "<matplotlib.figure.Figure at 0x2c8c4260470>"
      ]
     },
     "metadata": {},
     "output_type": "display_data"
    }
   ],
   "source": [
    "sns.distplot(df_lm['actor_facebook_likes_sum'])"
   ]
  },
  {
   "cell_type": "code",
   "execution_count": 72,
   "metadata": {
    "collapsed": false
   },
   "outputs": [
    {
     "data": {
      "text/plain": [
       "319     3.961863\n",
       "5020    3.905071\n",
       "1702    3.555455\n",
       "3923    3.491910\n",
       "2182    3.340809\n",
       "2066    3.339578\n",
       "3018    3.286854\n",
       "4525    3.284649\n",
       "4472    3.281260\n",
       "1998    3.275139\n",
       "620     3.241516\n",
       "2328    3.158277\n",
       "3445    3.112714\n",
       "2511    2.987116\n",
       "1303    2.978500\n",
       "4083    2.976776\n",
       "1144    2.938213\n",
       "3197    2.914633\n",
       "4005    2.914250\n",
       "4658    2.905846\n",
       "4704    2.870398\n",
       "2890    2.864510\n",
       "1934    2.849172\n",
       "2935    2.849041\n",
       "4769    2.849041\n",
       "4820    2.819396\n",
       "4766    2.816363\n",
       "5017    2.806011\n",
       "4963    2.777217\n",
       "3676    2.774785\n",
       "          ...   \n",
       "3870   -1.794681\n",
       "927    -1.798363\n",
       "4157   -1.808443\n",
       "4951   -1.810649\n",
       "2651   -1.811859\n",
       "2133   -1.813327\n",
       "1008   -1.817732\n",
       "4706   -1.836104\n",
       "4105   -1.844242\n",
       "4263   -1.847137\n",
       "3373   -1.850495\n",
       "3117   -1.852946\n",
       "3318   -1.881694\n",
       "2493   -1.904231\n",
       "1171   -1.904231\n",
       "4444   -1.906197\n",
       "338    -1.919327\n",
       "4274   -1.922197\n",
       "4034   -1.932378\n",
       "4920   -1.938501\n",
       "4914   -1.943568\n",
       "4585   -2.009383\n",
       "4286   -2.013672\n",
       "3486   -2.022416\n",
       "2870   -2.026593\n",
       "4409   -2.054560\n",
       "4687   -2.064161\n",
       "3849   -2.112755\n",
       "78     -2.119108\n",
       "3931   -2.205309\n",
       "Name: imdb_score, Length: 1473, dtype: float64"
      ]
     },
     "execution_count": 72,
     "metadata": {},
     "output_type": "execute_result"
    }
   ],
   "source": [
    "(y_pred-y_test).sort_values(ascending=False)"
   ]
  },
  {
   "cell_type": "code",
   "execution_count": null,
   "metadata": {
    "collapsed": false
   },
   "outputs": [],
   "source": []
  },
  {
   "cell_type": "code",
   "execution_count": null,
   "metadata": {
    "collapsed": true
   },
   "outputs": [],
   "source": []
  },
  {
   "cell_type": "code",
   "execution_count": null,
   "metadata": {
    "collapsed": true
   },
   "outputs": [],
   "source": []
  },
  {
   "cell_type": "code",
   "execution_count": null,
   "metadata": {
    "collapsed": true
   },
   "outputs": [],
   "source": []
  },
  {
   "cell_type": "code",
   "execution_count": null,
   "metadata": {
    "collapsed": true
   },
   "outputs": [],
   "source": []
  },
  {
   "cell_type": "code",
   "execution_count": null,
   "metadata": {
    "collapsed": true
   },
   "outputs": [],
   "source": []
  },
  {
   "cell_type": "code",
   "execution_count": null,
   "metadata": {
    "collapsed": true
   },
   "outputs": [],
   "source": []
  },
  {
   "cell_type": "code",
   "execution_count": null,
   "metadata": {
    "collapsed": true
   },
   "outputs": [],
   "source": []
  },
  {
   "cell_type": "code",
   "execution_count": null,
   "metadata": {
    "collapsed": true
   },
   "outputs": [],
   "source": []
  },
  {
   "cell_type": "code",
   "execution_count": null,
   "metadata": {
    "collapsed": true
   },
   "outputs": [],
   "source": []
  },
  {
   "cell_type": "code",
   "execution_count": null,
   "metadata": {
    "collapsed": true
   },
   "outputs": [],
   "source": []
  },
  {
   "cell_type": "code",
   "execution_count": null,
   "metadata": {
    "collapsed": true
   },
   "outputs": [],
   "source": []
  },
  {
   "cell_type": "code",
   "execution_count": null,
   "metadata": {
    "collapsed": true
   },
   "outputs": [],
   "source": []
  },
  {
   "cell_type": "code",
   "execution_count": null,
   "metadata": {
    "collapsed": true
   },
   "outputs": [],
   "source": []
  }
 ],
 "metadata": {
  "kernelspec": {
   "display_name": "Python 3",
   "language": "python",
   "name": "python3"
  },
  "language_info": {
   "codemirror_mode": {
    "name": "ipython",
    "version": 3
   },
   "file_extension": ".py",
   "mimetype": "text/x-python",
   "name": "python",
   "nbconvert_exporter": "python",
   "pygments_lexer": "ipython3",
   "version": "3.6.0"
  }
 },
 "nbformat": 4,
 "nbformat_minor": 2
}
